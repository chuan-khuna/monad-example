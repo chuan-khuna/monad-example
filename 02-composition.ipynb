{
 "cells": [
  {
   "cell_type": "code",
   "execution_count": 1,
   "metadata": {},
   "outputs": [],
   "source": [
    "import pandas as pd"
   ]
  },
  {
   "cell_type": "markdown",
   "metadata": {
    "slideshow": {
     "slide_type": "slide"
    }
   },
   "source": [
    "# Composition\n"
   ]
  },
  {
   "cell_type": "code",
   "execution_count": 2,
   "metadata": {},
   "outputs": [],
   "source": [
    "def compose(*functions):\n",
    "    # return a function that takes data\n",
    "    def inner(data):\n",
    "        for f in functions:\n",
    "            data = f(data)\n",
    "        return data\n",
    "\n",
    "    return inner"
   ]
  },
  {
   "cell_type": "code",
   "execution_count": 3,
   "metadata": {
    "slideshow": {
     "slide_type": "subslide"
    }
   },
   "outputs": [],
   "source": [
    "def multiply_by_two(x):\n",
    "    return x * 2\n",
    "\n",
    "\n",
    "def divide_by_two(x):\n",
    "    return x / 2\n",
    "\n",
    "\n",
    "def add_one(x):\n",
    "    return x + 1"
   ]
  },
  {
   "cell_type": "code",
   "execution_count": 4,
   "metadata": {
    "slideshow": {
     "slide_type": "fragment"
    }
   },
   "outputs": [
    {
     "data": {
      "text/plain": [
       "2.5"
      ]
     },
     "execution_count": 4,
     "metadata": {},
     "output_type": "execute_result"
    }
   ],
   "source": [
    "x = 0\n",
    "\n",
    "divide_by_two(add_one(multiply_by_two(multiply_by_two(add_one(x)))))"
   ]
  },
  {
   "cell_type": "code",
   "execution_count": 5,
   "metadata": {
    "slideshow": {
     "slide_type": "fragment"
    }
   },
   "outputs": [
    {
     "data": {
      "text/plain": [
       "2.5"
      ]
     },
     "execution_count": 5,
     "metadata": {},
     "output_type": "execute_result"
    }
   ],
   "source": [
    "compose(add_one, multiply_by_two, multiply_by_two, add_one, divide_by_two)(x)"
   ]
  },
  {
   "cell_type": "markdown",
   "metadata": {
    "slideshow": {
     "slide_type": "slide"
    }
   },
   "source": [
    "# Refactor the code by using composition\n",
    "\n",
    "Code with Pyramid of Doom\n",
    "\n",
    "```python\n",
    "def process_bmi(data_file: str, weight_kg_col: str, height_cm_col: str) -> pd.DataFrame | None:\n",
    "    # load data\n",
    "    # read weight column\n",
    "    # read height column\n",
    "    # calculate BMI\n",
    "    # return df\n",
    "    try:\n",
    "        df = pd.read_csv(data_file)\n",
    "        try:\n",
    "            weights = df[weight_kg_col]\n",
    "            try:\n",
    "                heights = df[height_cm_col]\n",
    "                try:\n",
    "                    bmi = weights / (heights / 100) ** 2\n",
    "                    df['bmi'] = bmi.round(1)\n",
    "                    return df\n",
    "                except Exception as e:\n",
    "                    print(f\"Error calculating BMI: {e}\")\n",
    "                    return None\n",
    "            except Exception as e:\n",
    "                print(f\"Error reading height column: {e}\")\n",
    "                return None\n",
    "        except Exception as e:\n",
    "            print(f\"Error reading weight column: {e}\")\n",
    "            return None\n",
    "    except Exception as e:\n",
    "        print(f\"Error reading file: {e}\")\n",
    "        return None\n",
    "```\n"
   ]
  },
  {
   "cell_type": "markdown",
   "metadata": {
    "slideshow": {
     "slide_type": "slide"
    }
   },
   "source": [
    "## Functions should do only one thing and do it well\n"
   ]
  },
  {
   "cell_type": "code",
   "execution_count": 6,
   "metadata": {},
   "outputs": [],
   "source": [
    "def read_df(path: str) -> pd.DataFrame:\n",
    "    return pd.read_csv(path)\n",
    "\n",
    "\n",
    "def convert_height_cm_to_m(height_cm_col: str, target_col: str):\n",
    "    def convert(df: pd.DataFrame) -> pd.DataFrame:\n",
    "        df[target_col] = df[height_cm_col] / 100\n",
    "        return df\n",
    "\n",
    "    return convert\n",
    "\n",
    "\n",
    "def calculate_bmi(weight_kg_col: str, height_m_col: str, target_col: str):\n",
    "    def calculate(df: pd.DataFrame) -> pd.DataFrame:\n",
    "        df[target_col] = round(df[weight_kg_col] / (df[height_m_col] ** 2), 2)\n",
    "        return df\n",
    "\n",
    "    return calculate"
   ]
  },
  {
   "cell_type": "markdown",
   "metadata": {
    "slideshow": {
     "slide_type": "subslide"
    }
   },
   "source": [
    "### better?\n"
   ]
  },
  {
   "cell_type": "code",
   "execution_count": 7,
   "metadata": {},
   "outputs": [
    {
     "data": {
      "text/html": [
       "<div>\n",
       "<style scoped>\n",
       "    .dataframe tbody tr th:only-of-type {\n",
       "        vertical-align: middle;\n",
       "    }\n",
       "\n",
       "    .dataframe tbody tr th {\n",
       "        vertical-align: top;\n",
       "    }\n",
       "\n",
       "    .dataframe thead th {\n",
       "        text-align: right;\n",
       "    }\n",
       "</style>\n",
       "<table border=\"1\" class=\"dataframe\">\n",
       "  <thead>\n",
       "    <tr style=\"text-align: right;\">\n",
       "      <th></th>\n",
       "      <th>name</th>\n",
       "      <th>height_cm</th>\n",
       "      <th>weight</th>\n",
       "      <th>height_m</th>\n",
       "      <th>bmi</th>\n",
       "    </tr>\n",
       "  </thead>\n",
       "  <tbody>\n",
       "    <tr>\n",
       "      <th>0</th>\n",
       "      <td>Alice</td>\n",
       "      <td>170</td>\n",
       "      <td>55</td>\n",
       "      <td>1.70</td>\n",
       "      <td>19.03</td>\n",
       "    </tr>\n",
       "    <tr>\n",
       "      <th>1</th>\n",
       "      <td>Bob</td>\n",
       "      <td>180</td>\n",
       "      <td>70</td>\n",
       "      <td>1.80</td>\n",
       "      <td>21.60</td>\n",
       "    </tr>\n",
       "    <tr>\n",
       "      <th>2</th>\n",
       "      <td>Charlie</td>\n",
       "      <td>175</td>\n",
       "      <td>65</td>\n",
       "      <td>1.75</td>\n",
       "      <td>21.22</td>\n",
       "    </tr>\n",
       "    <tr>\n",
       "      <th>3</th>\n",
       "      <td>David</td>\n",
       "      <td>203</td>\n",
       "      <td>110</td>\n",
       "      <td>2.03</td>\n",
       "      <td>26.69</td>\n",
       "    </tr>\n",
       "    <tr>\n",
       "      <th>4</th>\n",
       "      <td>Eve</td>\n",
       "      <td>173</td>\n",
       "      <td>60</td>\n",
       "      <td>1.73</td>\n",
       "      <td>20.05</td>\n",
       "    </tr>\n",
       "    <tr>\n",
       "      <th>5</th>\n",
       "      <td>Frank</td>\n",
       "      <td>155</td>\n",
       "      <td>110</td>\n",
       "      <td>1.55</td>\n",
       "      <td>45.79</td>\n",
       "    </tr>\n",
       "    <tr>\n",
       "      <th>6</th>\n",
       "      <td>Grace</td>\n",
       "      <td>169</td>\n",
       "      <td>45</td>\n",
       "      <td>1.69</td>\n",
       "      <td>15.76</td>\n",
       "    </tr>\n",
       "    <tr>\n",
       "      <th>7</th>\n",
       "      <td>Hannah</td>\n",
       "      <td>165</td>\n",
       "      <td>50</td>\n",
       "      <td>1.65</td>\n",
       "      <td>18.37</td>\n",
       "    </tr>\n",
       "    <tr>\n",
       "      <th>8</th>\n",
       "      <td>Ivan</td>\n",
       "      <td>175</td>\n",
       "      <td>70</td>\n",
       "      <td>1.75</td>\n",
       "      <td>22.86</td>\n",
       "    </tr>\n",
       "    <tr>\n",
       "      <th>9</th>\n",
       "      <td>John</td>\n",
       "      <td>210</td>\n",
       "      <td>95</td>\n",
       "      <td>2.10</td>\n",
       "      <td>21.54</td>\n",
       "    </tr>\n",
       "  </tbody>\n",
       "</table>\n",
       "</div>"
      ],
      "text/plain": [
       "      name  height_cm  weight  height_m    bmi\n",
       "0    Alice        170      55      1.70  19.03\n",
       "1      Bob        180      70      1.80  21.60\n",
       "2  Charlie        175      65      1.75  21.22\n",
       "3    David        203     110      2.03  26.69\n",
       "4      Eve        173      60      1.73  20.05\n",
       "5    Frank        155     110      1.55  45.79\n",
       "6    Grace        169      45      1.69  15.76\n",
       "7   Hannah        165      50      1.65  18.37\n",
       "8     Ivan        175      70      1.75  22.86\n",
       "9     John        210      95      2.10  21.54"
      ]
     },
     "execution_count": 7,
     "metadata": {},
     "output_type": "execute_result"
    }
   ],
   "source": [
    "csv_path = \"data/good.csv\"\n",
    "\n",
    "df = read_df(csv_path)\n",
    "df = convert_height_cm_to_m(\"height_cm\", \"height_m\")(df)\n",
    "df = calculate_bmi(\"weight\", \"height_m\", \"bmi\")(df)\n",
    "df"
   ]
  },
  {
   "cell_type": "markdown",
   "metadata": {
    "slideshow": {
     "slide_type": "subslide"
    }
   },
   "source": [
    "### using composition pattern\n"
   ]
  },
  {
   "cell_type": "code",
   "execution_count": 8,
   "metadata": {},
   "outputs": [
    {
     "data": {
      "text/html": [
       "<div>\n",
       "<style scoped>\n",
       "    .dataframe tbody tr th:only-of-type {\n",
       "        vertical-align: middle;\n",
       "    }\n",
       "\n",
       "    .dataframe tbody tr th {\n",
       "        vertical-align: top;\n",
       "    }\n",
       "\n",
       "    .dataframe thead th {\n",
       "        text-align: right;\n",
       "    }\n",
       "</style>\n",
       "<table border=\"1\" class=\"dataframe\">\n",
       "  <thead>\n",
       "    <tr style=\"text-align: right;\">\n",
       "      <th></th>\n",
       "      <th>name</th>\n",
       "      <th>height_cm</th>\n",
       "      <th>weight</th>\n",
       "      <th>height_m</th>\n",
       "      <th>bmi</th>\n",
       "    </tr>\n",
       "  </thead>\n",
       "  <tbody>\n",
       "    <tr>\n",
       "      <th>0</th>\n",
       "      <td>Alice</td>\n",
       "      <td>170</td>\n",
       "      <td>55</td>\n",
       "      <td>1.70</td>\n",
       "      <td>19.03</td>\n",
       "    </tr>\n",
       "    <tr>\n",
       "      <th>1</th>\n",
       "      <td>Bob</td>\n",
       "      <td>180</td>\n",
       "      <td>70</td>\n",
       "      <td>1.80</td>\n",
       "      <td>21.60</td>\n",
       "    </tr>\n",
       "    <tr>\n",
       "      <th>2</th>\n",
       "      <td>Charlie</td>\n",
       "      <td>175</td>\n",
       "      <td>65</td>\n",
       "      <td>1.75</td>\n",
       "      <td>21.22</td>\n",
       "    </tr>\n",
       "    <tr>\n",
       "      <th>3</th>\n",
       "      <td>David</td>\n",
       "      <td>203</td>\n",
       "      <td>110</td>\n",
       "      <td>2.03</td>\n",
       "      <td>26.69</td>\n",
       "    </tr>\n",
       "    <tr>\n",
       "      <th>4</th>\n",
       "      <td>Eve</td>\n",
       "      <td>173</td>\n",
       "      <td>60</td>\n",
       "      <td>1.73</td>\n",
       "      <td>20.05</td>\n",
       "    </tr>\n",
       "    <tr>\n",
       "      <th>5</th>\n",
       "      <td>Frank</td>\n",
       "      <td>155</td>\n",
       "      <td>110</td>\n",
       "      <td>1.55</td>\n",
       "      <td>45.79</td>\n",
       "    </tr>\n",
       "    <tr>\n",
       "      <th>6</th>\n",
       "      <td>Grace</td>\n",
       "      <td>169</td>\n",
       "      <td>45</td>\n",
       "      <td>1.69</td>\n",
       "      <td>15.76</td>\n",
       "    </tr>\n",
       "    <tr>\n",
       "      <th>7</th>\n",
       "      <td>Hannah</td>\n",
       "      <td>165</td>\n",
       "      <td>50</td>\n",
       "      <td>1.65</td>\n",
       "      <td>18.37</td>\n",
       "    </tr>\n",
       "    <tr>\n",
       "      <th>8</th>\n",
       "      <td>Ivan</td>\n",
       "      <td>175</td>\n",
       "      <td>70</td>\n",
       "      <td>1.75</td>\n",
       "      <td>22.86</td>\n",
       "    </tr>\n",
       "    <tr>\n",
       "      <th>9</th>\n",
       "      <td>John</td>\n",
       "      <td>210</td>\n",
       "      <td>95</td>\n",
       "      <td>2.10</td>\n",
       "      <td>21.54</td>\n",
       "    </tr>\n",
       "  </tbody>\n",
       "</table>\n",
       "</div>"
      ],
      "text/plain": [
       "      name  height_cm  weight  height_m    bmi\n",
       "0    Alice        170      55      1.70  19.03\n",
       "1      Bob        180      70      1.80  21.60\n",
       "2  Charlie        175      65      1.75  21.22\n",
       "3    David        203     110      2.03  26.69\n",
       "4      Eve        173      60      1.73  20.05\n",
       "5    Frank        155     110      1.55  45.79\n",
       "6    Grace        169      45      1.69  15.76\n",
       "7   Hannah        165      50      1.65  18.37\n",
       "8     Ivan        175      70      1.75  22.86\n",
       "9     John        210      95      2.10  21.54"
      ]
     },
     "execution_count": 8,
     "metadata": {},
     "output_type": "execute_result"
    }
   ],
   "source": [
    "df_bmi = compose(\n",
    "    read_df,\n",
    "    convert_height_cm_to_m(\"height_cm\", \"height_m\"),\n",
    "    calculate_bmi(\"weight\", \"height_m\", \"bmi\"),\n",
    ")(csv_path)\n",
    "df_bmi"
   ]
  }
 ],
 "metadata": {
  "kernelspec": {
   "display_name": "py312",
   "language": "python",
   "name": "python3"
  },
  "language_info": {
   "codemirror_mode": {
    "name": "ipython",
    "version": 3
   },
   "file_extension": ".py",
   "mimetype": "text/x-python",
   "name": "python",
   "nbconvert_exporter": "python",
   "pygments_lexer": "ipython3",
   "version": "3.12.4"
  }
 },
 "nbformat": 4,
 "nbformat_minor": 2
}
