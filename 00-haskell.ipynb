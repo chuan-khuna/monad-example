{
 "cells": [
  {
   "cell_type": "code",
   "execution_count": 1,
   "metadata": {
    "execution": {
     "iopub.execute_input": "2024-07-07T14:22:01.774842Z",
     "iopub.status.busy": "2024-07-07T14:22:01.770433Z",
     "iopub.status.idle": "2024-07-07T14:22:02.083722Z",
     "shell.execute_reply": "2024-07-07T14:22:02.084009Z"
    },
    "tags": []
   },
   "outputs": [],
   "source": [
    "add :: Int -> Int -> Int\n",
    "add x y = x + y"
   ]
  },
  {
   "cell_type": "code",
   "execution_count": 2,
   "metadata": {
    "execution": {
     "iopub.execute_input": "2024-07-07T14:22:02.684157Z",
     "iopub.status.busy": "2024-07-07T14:22:02.680037Z",
     "iopub.status.idle": "2024-07-07T14:22:02.922968Z",
     "shell.execute_reply": "2024-07-07T14:22:02.922252Z"
    }
   },
   "outputs": [
    {
     "data": {
      "text/plain": [
       "3"
      ]
     },
     "metadata": {},
     "output_type": "display_data"
    }
   ],
   "source": [
    "add 1 2"
   ]
  },
  {
   "cell_type": "code",
   "execution_count": 3,
   "metadata": {
    "execution": {
     "iopub.execute_input": "2024-07-07T14:22:03.097565Z",
     "iopub.status.busy": "2024-07-07T14:22:03.094691Z",
     "iopub.status.idle": "2024-07-07T14:22:03.217522Z",
     "shell.execute_reply": "2024-07-07T14:22:03.216779Z"
    }
   },
   "outputs": [],
   "source": [
    "addOne :: Int -> Int\n",
    "addOne x = x + 1"
   ]
  },
  {
   "cell_type": "code",
   "execution_count": 4,
   "metadata": {
    "execution": {
     "iopub.execute_input": "2024-07-07T14:22:03.220723Z",
     "iopub.status.busy": "2024-07-07T14:22:03.219909Z",
     "iopub.status.idle": "2024-07-07T14:22:03.363637Z",
     "shell.execute_reply": "2024-07-07T14:22:03.363310Z"
    },
    "tags": []
   },
   "outputs": [],
   "source": [
    "isPalindrome :: [Char] -> Bool\n",
    "isPalindrome x = x == reverse x"
   ]
  },
  {
   "cell_type": "markdown",
   "metadata": {
    "execution": {
     "iopub.execute_input": "2024-06-19T13:39:55.408715Z",
     "iopub.status.busy": "2024-06-19T13:39:55.406723Z",
     "iopub.status.idle": "2024-06-19T13:39:55.646189Z",
     "shell.execute_reply": "2024-06-19T13:39:55.644854Z"
    },
    "tags": []
   },
   "source": [
    "# Higher order function\n"
   ]
  },
  {
   "cell_type": "code",
   "execution_count": 5,
   "metadata": {
    "execution": {
     "iopub.execute_input": "2024-07-07T14:22:03.365149Z",
     "iopub.status.busy": "2024-07-07T14:22:03.364562Z",
     "iopub.status.idle": "2024-07-07T14:22:03.598352Z",
     "shell.execute_reply": "2024-07-07T14:22:03.591920Z"
    },
    "tags": []
   },
   "outputs": [
    {
     "data": {
      "text/plain": [
       "[False,True,True]"
      ]
     },
     "metadata": {},
     "output_type": "display_data"
    }
   ],
   "source": [
    "strArr = [\"hello\", \"madam\", \"racecar\"]\n",
    "\n",
    "map isPalindrome strArr"
   ]
  },
  {
   "cell_type": "code",
   "execution_count": 6,
   "metadata": {
    "execution": {
     "iopub.execute_input": "2024-07-07T14:22:03.600675Z",
     "iopub.status.busy": "2024-07-07T14:22:03.600005Z",
     "iopub.status.idle": "2024-07-07T14:22:03.726898Z",
     "shell.execute_reply": "2024-07-07T14:22:03.728165Z"
    }
   },
   "outputs": [
    {
     "data": {},
     "metadata": {},
     "output_type": "display_data"
    },
    {
     "data": {
      "text/html": [
       "<div style='background: rgb(247, 247, 247);'><form><textarea id='code'>map :: (a -> b) -> [a] -> [b] \t-- Defined in ‘GHC.Base’\n",
       "</textarea></form></div><script>CodeMirror.fromTextArea(document.getElementById('code'), {mode: 'haskell', readOnly: 'nocursor'});</script>"
      ],
      "text/plain": [
       "map :: (a -> b) -> [a] -> [b] \t-- Defined in ‘GHC.Base’"
      ]
     },
     "metadata": {},
     "output_type": "display_data"
    }
   ],
   "source": [
    ":info map"
   ]
  },
  {
   "cell_type": "code",
   "execution_count": 7,
   "metadata": {
    "execution": {
     "iopub.execute_input": "2024-07-07T14:22:03.728335Z",
     "iopub.status.busy": "2024-07-07T14:22:03.727497Z",
     "iopub.status.idle": "2024-07-07T14:22:03.958978Z",
     "shell.execute_reply": "2024-07-07T14:22:03.958070Z"
    }
   },
   "outputs": [
    {
     "data": {
      "text/plain": [
       "[2,3,4,5]"
      ]
     },
     "metadata": {},
     "output_type": "display_data"
    }
   ],
   "source": [
    "map addOne [1..4]"
   ]
  },
  {
   "cell_type": "code",
   "execution_count": 8,
   "metadata": {
    "execution": {
     "iopub.execute_input": "2024-07-07T14:22:03.967398Z",
     "iopub.status.busy": "2024-07-07T14:22:03.966596Z",
     "iopub.status.idle": "2024-07-07T14:22:04.082181Z",
     "shell.execute_reply": "2024-07-07T14:22:04.083547Z"
    }
   },
   "outputs": [
    {
     "data": {},
     "metadata": {},
     "output_type": "display_data"
    },
    {
     "data": {
      "text/html": [
       "<div style='background: rgb(247, 247, 247);'><form><textarea id='code'>filter :: (a -> Bool) -> [a] -> [a] \t-- Defined in ‘GHC.List’\n",
       "</textarea></form></div><script>CodeMirror.fromTextArea(document.getElementById('code'), {mode: 'haskell', readOnly: 'nocursor'});</script>"
      ],
      "text/plain": [
       "filter :: (a -> Bool) -> [a] -> [a] \t-- Defined in ‘GHC.List’"
      ]
     },
     "metadata": {},
     "output_type": "display_data"
    }
   ],
   "source": [
    ":info filter"
   ]
  },
  {
   "cell_type": "code",
   "execution_count": 9,
   "metadata": {
    "execution": {
     "iopub.execute_input": "2024-07-07T14:22:04.083852Z",
     "iopub.status.busy": "2024-07-07T14:22:04.083014Z",
     "iopub.status.idle": "2024-07-07T14:22:04.314002Z",
     "shell.execute_reply": "2024-07-07T14:22:04.312977Z"
    },
    "tags": []
   },
   "outputs": [
    {
     "data": {
      "text/plain": [
       "[2,4,6,8,10]"
      ]
     },
     "metadata": {},
     "output_type": "display_data"
    }
   ],
   "source": [
    "filter even [1..10] "
   ]
  },
  {
   "cell_type": "markdown",
   "metadata": {
    "execution": {
     "iopub.execute_input": "2024-06-19T13:41:56.224390Z",
     "iopub.status.busy": "2024-06-19T13:41:56.223421Z",
     "iopub.status.idle": "2024-06-19T13:41:56.462281Z",
     "shell.execute_reply": "2024-06-19T13:41:56.461028Z"
    },
    "tags": []
   },
   "source": [
    "## foldr aka `reduce`\n"
   ]
  },
  {
   "cell_type": "code",
   "execution_count": 10,
   "metadata": {
    "execution": {
     "iopub.execute_input": "2024-07-07T14:22:04.316138Z",
     "iopub.status.busy": "2024-07-07T14:22:04.315434Z",
     "iopub.status.idle": "2024-07-07T14:22:04.430632Z",
     "shell.execute_reply": "2024-07-07T14:22:04.434035Z"
    }
   },
   "outputs": [
    {
     "data": {},
     "metadata": {},
     "output_type": "display_data"
    },
    {
     "data": {
      "text/html": [
       "<div style='background: rgb(247, 247, 247);'><form><textarea id='code'>type Foldable :: (* -> *) -> Constraint\n",
       "class Foldable t where\n",
       "  ...\n",
       "  foldr :: (a -> b -> b) -> b -> t a -> b\n",
       "  ...\n",
       "  \t-- Defined in ‘Data.Foldable’\n",
       "</textarea></form></div><script>CodeMirror.fromTextArea(document.getElementById('code'), {mode: 'haskell', readOnly: 'nocursor'});</script>"
      ],
      "text/plain": [
       "type Foldable :: (* -> *) -> Constraint\n",
       "class Foldable t where\n",
       "  ...\n",
       "  foldr :: (a -> b -> b) -> b -> t a -> b\n",
       "  ...\n",
       "  \t-- Defined in ‘Data.Foldable’"
      ]
     },
     "metadata": {},
     "output_type": "display_data"
    }
   ],
   "source": [
    ":i foldr"
   ]
  },
  {
   "cell_type": "code",
   "execution_count": 11,
   "metadata": {
    "execution": {
     "iopub.execute_input": "2024-07-07T14:22:04.434383Z",
     "iopub.status.busy": "2024-07-07T14:22:04.432990Z",
     "iopub.status.idle": "2024-07-07T14:22:04.665680Z",
     "shell.execute_reply": "2024-07-07T14:22:04.664841Z"
    },
    "tags": []
   },
   "outputs": [
    {
     "data": {
      "text/html": [
       "<style>/* Styles used for the Hoogle display in the pager */\n",
       ".hoogle-doc {\n",
       "display: block;\n",
       "padding-bottom: 1.3em;\n",
       "padding-left: 0.4em;\n",
       "}\n",
       ".hoogle-code {\n",
       "display: block;\n",
       "font-family: monospace;\n",
       "white-space: pre;\n",
       "}\n",
       ".hoogle-text {\n",
       "display: block;\n",
       "}\n",
       ".hoogle-name {\n",
       "color: green;\n",
       "font-weight: bold;\n",
       "}\n",
       ".hoogle-head {\n",
       "font-weight: bold;\n",
       "}\n",
       ".hoogle-sub {\n",
       "display: block;\n",
       "margin-left: 0.4em;\n",
       "}\n",
       ".hoogle-package {\n",
       "font-weight: bold;\n",
       "font-style: italic;\n",
       "}\n",
       ".hoogle-module {\n",
       "font-weight: bold;\n",
       "}\n",
       ".hoogle-class {\n",
       "font-weight: bold;\n",
       "}\n",
       ".get-type {\n",
       "color: green;\n",
       "font-weight: bold;\n",
       "font-family: monospace;\n",
       "display: block;\n",
       "white-space: pre-wrap;\n",
       "}\n",
       ".show-type {\n",
       "color: green;\n",
       "font-weight: bold;\n",
       "font-family: monospace;\n",
       "margin-left: 1em;\n",
       "}\n",
       ".mono {\n",
       "font-family: monospace;\n",
       "display: block;\n",
       "}\n",
       ".err-msg {\n",
       "color: red;\n",
       "font-style: italic;\n",
       "font-family: monospace;\n",
       "white-space: pre;\n",
       "display: block;\n",
       "}\n",
       "#unshowable {\n",
       "color: red;\n",
       "font-weight: bold;\n",
       "}\n",
       ".err-msg.in.collapse {\n",
       "padding-top: 0.7em;\n",
       "}\n",
       ".highlight-code {\n",
       "white-space: pre;\n",
       "font-family: monospace;\n",
       "}\n",
       ".suggestion-warning { \n",
       "font-weight: bold;\n",
       "color: rgb(200, 130, 0);\n",
       "}\n",
       ".suggestion-error { \n",
       "font-weight: bold;\n",
       "color: red;\n",
       "}\n",
       ".suggestion-name {\n",
       "font-weight: bold;\n",
       "}\n",
       "</style><div class=\"suggestion-name\" style=\"clear:both;\">Use sum</div><div class=\"suggestion-row\" style=\"float: left;\"><div class=\"suggestion-warning\">Found:</div><div class=\"highlight-code\" id=\"haskell\">foldr (+) 0</div></div><div class=\"suggestion-row\" style=\"float: left;\"><div class=\"suggestion-warning\">Why Not:</div><div class=\"highlight-code\" id=\"haskell\">sum</div></div>"
      ],
      "text/plain": [
       "Line 2: Use sum\n",
       "Found:\n",
       "foldr (+) 0\n",
       "Why not:\n",
       "sum"
      ]
     },
     "metadata": {},
     "output_type": "display_data"
    },
    {
     "data": {
      "text/plain": [
       "55"
      ]
     },
     "metadata": {},
     "output_type": "display_data"
    }
   ],
   "source": [
    "-- reduce\n",
    "foldr (+) 0 [1..10]"
   ]
  },
  {
   "cell_type": "markdown",
   "metadata": {
    "execution": {
     "iopub.execute_input": "2024-06-19T13:43:57.260429Z",
     "iopub.status.busy": "2024-06-19T13:43:57.259234Z",
     "iopub.status.idle": "2024-06-19T13:43:57.501816Z",
     "shell.execute_reply": "2024-06-19T13:43:57.500812Z"
    },
    "tags": []
   },
   "source": [
    "# Chain calling\n"
   ]
  },
  {
   "cell_type": "code",
   "execution_count": 12,
   "metadata": {
    "execution": {
     "iopub.execute_input": "2024-07-07T14:22:04.668669Z",
     "iopub.status.busy": "2024-07-07T14:22:04.667239Z",
     "iopub.status.idle": "2024-07-07T14:22:04.939904Z",
     "shell.execute_reply": "2024-07-07T14:22:04.939534Z"
    },
    "tags": []
   },
   "outputs": [
    {
     "data": {
      "text/html": [
       "<style>/* Styles used for the Hoogle display in the pager */\n",
       ".hoogle-doc {\n",
       "display: block;\n",
       "padding-bottom: 1.3em;\n",
       "padding-left: 0.4em;\n",
       "}\n",
       ".hoogle-code {\n",
       "display: block;\n",
       "font-family: monospace;\n",
       "white-space: pre;\n",
       "}\n",
       ".hoogle-text {\n",
       "display: block;\n",
       "}\n",
       ".hoogle-name {\n",
       "color: green;\n",
       "font-weight: bold;\n",
       "}\n",
       ".hoogle-head {\n",
       "font-weight: bold;\n",
       "}\n",
       ".hoogle-sub {\n",
       "display: block;\n",
       "margin-left: 0.4em;\n",
       "}\n",
       ".hoogle-package {\n",
       "font-weight: bold;\n",
       "font-style: italic;\n",
       "}\n",
       ".hoogle-module {\n",
       "font-weight: bold;\n",
       "}\n",
       ".hoogle-class {\n",
       "font-weight: bold;\n",
       "}\n",
       ".get-type {\n",
       "color: green;\n",
       "font-weight: bold;\n",
       "font-family: monospace;\n",
       "display: block;\n",
       "white-space: pre-wrap;\n",
       "}\n",
       ".show-type {\n",
       "color: green;\n",
       "font-weight: bold;\n",
       "font-family: monospace;\n",
       "margin-left: 1em;\n",
       "}\n",
       ".mono {\n",
       "font-family: monospace;\n",
       "display: block;\n",
       "}\n",
       ".err-msg {\n",
       "color: red;\n",
       "font-style: italic;\n",
       "font-family: monospace;\n",
       "white-space: pre;\n",
       "display: block;\n",
       "}\n",
       "#unshowable {\n",
       "color: red;\n",
       "font-weight: bold;\n",
       "}\n",
       ".err-msg.in.collapse {\n",
       "padding-top: 0.7em;\n",
       "}\n",
       ".highlight-code {\n",
       "white-space: pre;\n",
       "font-family: monospace;\n",
       "}\n",
       ".suggestion-warning { \n",
       "font-weight: bold;\n",
       "color: rgb(200, 130, 0);\n",
       "}\n",
       ".suggestion-error { \n",
       "font-weight: bold;\n",
       "color: red;\n",
       "}\n",
       ".suggestion-name {\n",
       "font-weight: bold;\n",
       "}\n",
       "</style><div class=\"suggestion-name\" style=\"clear:both;\">Use sum</div><div class=\"suggestion-row\" style=\"float: left;\"><div class=\"suggestion-warning\">Found:</div><div class=\"highlight-code\" id=\"haskell\">foldr (+) 0</div></div><div class=\"suggestion-row\" style=\"float: left;\"><div class=\"suggestion-warning\">Why Not:</div><div class=\"highlight-code\" id=\"haskell\">sum</div></div>"
      ],
      "text/plain": [
       "Line 1: Use sum\n",
       "Found:\n",
       "foldr (+) 0\n",
       "Why not:\n",
       "sum"
      ]
     },
     "metadata": {},
     "output_type": "display_data"
    },
    {
     "data": {
      "text/plain": [
       "30"
      ]
     },
     "metadata": {},
     "output_type": "display_data"
    }
   ],
   "source": [
    "foldr (+) 0 $ filter even $ map addOne [1..10]"
   ]
  },
  {
   "cell_type": "code",
   "execution_count": 13,
   "metadata": {
    "execution": {
     "iopub.execute_input": "2024-07-07T14:22:04.941185Z",
     "iopub.status.busy": "2024-07-07T14:22:04.940664Z",
     "iopub.status.idle": "2024-07-07T14:22:05.173009Z",
     "shell.execute_reply": "2024-07-07T14:22:05.174420Z"
    },
    "tags": []
   },
   "outputs": [
    {
     "data": {
      "text/plain": [
       "[2,4,6,8,10]"
      ]
     },
     "metadata": {},
     "output_type": "display_data"
    }
   ],
   "source": [
    "filter even $ map addOne [1..10]"
   ]
  },
  {
   "cell_type": "markdown",
   "metadata": {
    "execution": {
     "iopub.execute_input": "2024-06-27T10:50:59.255957Z",
     "iopub.status.busy": "2024-06-27T10:50:59.255622Z",
     "iopub.status.idle": "2024-06-27T10:50:59.260795Z",
     "shell.execute_reply": "2024-06-27T10:50:59.260009Z"
    }
   },
   "source": [
    "# Fibonacci\n"
   ]
  },
  {
   "cell_type": "code",
   "execution_count": 14,
   "metadata": {
    "execution": {
     "iopub.execute_input": "2024-07-07T14:22:05.177168Z",
     "iopub.status.busy": "2024-07-07T14:22:05.176621Z",
     "iopub.status.idle": "2024-07-07T14:22:05.303721Z",
     "shell.execute_reply": "2024-07-07T14:22:05.303152Z"
    },
    "tags": []
   },
   "outputs": [],
   "source": [
    "fib :: Int -> Int\n",
    "\n",
    "fib 0 = 0\n",
    "fib 1 = 1\n",
    "fib n = fib (n-1) + fib (n-2)"
   ]
  },
  {
   "cell_type": "code",
   "execution_count": 15,
   "metadata": {
    "execution": {
     "iopub.execute_input": "2024-07-07T14:22:05.305404Z",
     "iopub.status.busy": "2024-07-07T14:22:05.304691Z",
     "iopub.status.idle": "2024-07-07T14:22:05.540025Z",
     "shell.execute_reply": "2024-07-07T14:22:05.546851Z"
    },
    "tags": []
   },
   "outputs": [
    {
     "data": {
      "text/plain": [
       "[(1,1),(2,1),(3,2),(4,3),(5,5),(6,8),(7,13),(8,21),(9,34),(10,55)]"
      ]
     },
     "metadata": {},
     "output_type": "display_data"
    }
   ],
   "source": [
    "zip [1..10] (map fib [1..10])"
   ]
  },
  {
   "cell_type": "markdown",
   "metadata": {},
   "source": [
    "# Quick sort\n"
   ]
  },
  {
   "cell_type": "code",
   "execution_count": 16,
   "metadata": {
    "execution": {
     "iopub.execute_input": "2024-07-07T14:22:05.548892Z",
     "iopub.status.busy": "2024-07-07T14:22:05.548114Z",
     "iopub.status.idle": "2024-07-07T14:22:05.677045Z",
     "shell.execute_reply": "2024-07-07T14:22:05.677302Z"
    },
    "tags": []
   },
   "outputs": [],
   "source": [
    "quicksort :: Ord a => [a] -> [a]\n",
    "quicksort [] = []\n",
    "quicksort (x : xs) = quicksort ys ++ [x] ++ quicksort zs\n",
    "  where\n",
    "    -- everything smaller than x\n",
    "    ys = [a | a <- xs, a <= x]\n",
    "    -- everything greater than x\n",
    "    zs = [b | b <- xs, b > x]"
   ]
  },
  {
   "cell_type": "code",
   "execution_count": 19,
   "metadata": {
    "execution": {
     "iopub.execute_input": "2024-07-07T14:22:31.942198Z",
     "iopub.status.busy": "2024-07-07T14:22:31.938019Z",
     "iopub.status.idle": "2024-07-07T14:22:32.172504Z",
     "shell.execute_reply": "2024-07-07T14:22:32.171771Z"
    },
    "tags": []
   },
   "outputs": [
    {
     "data": {
      "text/plain": [
       "[1,2,3,4,5,6,7,8,9,10]"
      ]
     },
     "metadata": {},
     "output_type": "display_data"
    }
   ],
   "source": [
    "quicksort $ reverse [1..10]"
   ]
  },
  {
   "cell_type": "code",
   "execution_count": null,
   "metadata": {},
   "outputs": [],
   "source": []
  }
 ],
 "metadata": {
  "kernelspec": {
   "display_name": "Haskell",
   "language": "haskell",
   "name": "haskell"
  },
  "language_info": {
   "codemirror_mode": "ihaskell",
   "file_extension": ".hs",
   "mimetype": "text/x-haskell",
   "name": "haskell",
   "pygments_lexer": "Haskell",
   "version": "9.4.5"
  }
 },
 "nbformat": 4,
 "nbformat_minor": 4
}
