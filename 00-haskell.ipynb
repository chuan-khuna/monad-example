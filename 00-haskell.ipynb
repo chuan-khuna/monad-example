{
 "cells": [
  {
   "cell_type": "code",
   "execution_count": 1,
   "metadata": {
    "execution": {
     "iopub.execute_input": "2024-06-27T10:52:42.696512Z",
     "iopub.status.busy": "2024-06-27T10:52:42.695882Z",
     "iopub.status.idle": "2024-06-27T10:52:43.009850Z",
     "shell.execute_reply": "2024-06-27T10:52:43.009426Z"
    },
    "tags": []
   },
   "outputs": [],
   "source": [
    "add :: Int -> Int -> Int\n",
    "add x y = x + y"
   ]
  },
  {
   "cell_type": "code",
   "execution_count": 2,
   "metadata": {
    "execution": {
     "iopub.execute_input": "2024-06-27T10:52:43.010722Z",
     "iopub.status.busy": "2024-06-27T10:52:43.010324Z",
     "iopub.status.idle": "2024-06-27T10:52:43.247841Z",
     "shell.execute_reply": "2024-06-27T10:52:43.247471Z"
    }
   },
   "outputs": [
    {
     "data": {
      "text/plain": [
       "3"
      ]
     },
     "metadata": {},
     "output_type": "display_data"
    }
   ],
   "source": [
    "add 1 2"
   ]
  },
  {
   "cell_type": "code",
   "execution_count": 3,
   "metadata": {
    "execution": {
     "iopub.execute_input": "2024-06-27T10:52:43.248578Z",
     "iopub.status.busy": "2024-06-27T10:52:43.248245Z",
     "iopub.status.idle": "2024-06-27T10:52:43.372201Z",
     "shell.execute_reply": "2024-06-27T10:52:43.371665Z"
    }
   },
   "outputs": [],
   "source": [
    "addOne :: Int -> Int\n",
    "addOne x = x + 1"
   ]
  },
  {
   "cell_type": "code",
   "execution_count": 4,
   "metadata": {
    "execution": {
     "iopub.execute_input": "2024-06-27T10:52:43.373559Z",
     "iopub.status.busy": "2024-06-27T10:52:43.372908Z",
     "iopub.status.idle": "2024-06-27T10:52:43.505916Z",
     "shell.execute_reply": "2024-06-27T10:52:43.505283Z"
    },
    "tags": []
   },
   "outputs": [],
   "source": [
    "isPalindrome :: [Char] -> Bool\n",
    "isPalindrome x = x == reverse x"
   ]
  },
  {
   "cell_type": "markdown",
   "metadata": {
    "execution": {
     "iopub.execute_input": "2024-06-19T13:39:55.408715Z",
     "iopub.status.busy": "2024-06-19T13:39:55.406723Z",
     "iopub.status.idle": "2024-06-19T13:39:55.646189Z",
     "shell.execute_reply": "2024-06-19T13:39:55.644854Z"
    },
    "tags": []
   },
   "source": [
    "# Higher order function"
   ]
  },
  {
   "cell_type": "code",
   "execution_count": 5,
   "metadata": {
    "execution": {
     "iopub.execute_input": "2024-06-27T10:52:43.507350Z",
     "iopub.status.busy": "2024-06-27T10:52:43.506624Z",
     "iopub.status.idle": "2024-06-27T10:52:43.732319Z",
     "shell.execute_reply": "2024-06-27T10:52:43.731928Z"
    },
    "tags": []
   },
   "outputs": [
    {
     "data": {
      "text/plain": [
       "[False,True,True]"
      ]
     },
     "metadata": {},
     "output_type": "display_data"
    }
   ],
   "source": [
    "strArr = [\"hello\", \"madam\", \"racecar\"]\n",
    "\n",
    "map isPalindrome strArr"
   ]
  },
  {
   "cell_type": "code",
   "execution_count": 6,
   "metadata": {
    "execution": {
     "iopub.execute_input": "2024-06-27T10:52:43.733110Z",
     "iopub.status.busy": "2024-06-27T10:52:43.732757Z",
     "iopub.status.idle": "2024-06-27T10:52:43.853822Z",
     "shell.execute_reply": "2024-06-27T10:52:43.853439Z"
    }
   },
   "outputs": [
    {
     "data": {},
     "metadata": {},
     "output_type": "display_data"
    },
    {
     "data": {
      "text/html": [
       "<div style='background: rgb(247, 247, 247);'><form><textarea id='code'>map :: (a -> b) -> [a] -> [b] \t-- Defined in ‘GHC.Base’\n",
       "</textarea></form></div><script>CodeMirror.fromTextArea(document.getElementById('code'), {mode: 'haskell', readOnly: 'nocursor'});</script>"
      ],
      "text/plain": [
       "map :: (a -> b) -> [a] -> [b] \t-- Defined in ‘GHC.Base’"
      ]
     },
     "metadata": {},
     "output_type": "display_data"
    }
   ],
   "source": [
    ":info map"
   ]
  },
  {
   "cell_type": "code",
   "execution_count": 7,
   "metadata": {
    "execution": {
     "iopub.execute_input": "2024-06-27T10:52:43.854579Z",
     "iopub.status.busy": "2024-06-27T10:52:43.854233Z",
     "iopub.status.idle": "2024-06-27T10:52:44.078932Z",
     "shell.execute_reply": "2024-06-27T10:52:44.078527Z"
    }
   },
   "outputs": [
    {
     "data": {
      "text/plain": [
       "[2,3,4,5]"
      ]
     },
     "metadata": {},
     "output_type": "display_data"
    }
   ],
   "source": [
    "map addOne [1..4]"
   ]
  },
  {
   "cell_type": "code",
   "execution_count": 8,
   "metadata": {
    "execution": {
     "iopub.execute_input": "2024-06-27T10:52:44.079692Z",
     "iopub.status.busy": "2024-06-27T10:52:44.079365Z",
     "iopub.status.idle": "2024-06-27T10:52:44.193250Z",
     "shell.execute_reply": "2024-06-27T10:52:44.192875Z"
    }
   },
   "outputs": [
    {
     "data": {},
     "metadata": {},
     "output_type": "display_data"
    },
    {
     "data": {
      "text/html": [
       "<div style='background: rgb(247, 247, 247);'><form><textarea id='code'>filter :: (a -> Bool) -> [a] -> [a] \t-- Defined in ‘GHC.List’\n",
       "</textarea></form></div><script>CodeMirror.fromTextArea(document.getElementById('code'), {mode: 'haskell', readOnly: 'nocursor'});</script>"
      ],
      "text/plain": [
       "filter :: (a -> Bool) -> [a] -> [a] \t-- Defined in ‘GHC.List’"
      ]
     },
     "metadata": {},
     "output_type": "display_data"
    }
   ],
   "source": [
    ":info filter"
   ]
  },
  {
   "cell_type": "code",
   "execution_count": 9,
   "metadata": {
    "execution": {
     "iopub.execute_input": "2024-06-27T10:52:44.193986Z",
     "iopub.status.busy": "2024-06-27T10:52:44.193646Z",
     "iopub.status.idle": "2024-06-27T10:52:44.421117Z",
     "shell.execute_reply": "2024-06-27T10:52:44.420600Z"
    },
    "tags": []
   },
   "outputs": [
    {
     "data": {
      "text/plain": [
       "[2,4,6,8,10]"
      ]
     },
     "metadata": {},
     "output_type": "display_data"
    }
   ],
   "source": [
    "filter even [1..10] "
   ]
  },
  {
   "cell_type": "markdown",
   "metadata": {
    "execution": {
     "iopub.execute_input": "2024-06-19T13:41:56.224390Z",
     "iopub.status.busy": "2024-06-19T13:41:56.223421Z",
     "iopub.status.idle": "2024-06-19T13:41:56.462281Z",
     "shell.execute_reply": "2024-06-19T13:41:56.461028Z"
    },
    "tags": []
   },
   "source": [
    "## foldr aka `reduce`"
   ]
  },
  {
   "cell_type": "code",
   "execution_count": 10,
   "metadata": {
    "execution": {
     "iopub.execute_input": "2024-06-27T10:52:44.421999Z",
     "iopub.status.busy": "2024-06-27T10:52:44.421718Z",
     "iopub.status.idle": "2024-06-27T10:52:44.537390Z",
     "shell.execute_reply": "2024-06-27T10:52:44.536994Z"
    }
   },
   "outputs": [
    {
     "data": {},
     "metadata": {},
     "output_type": "display_data"
    },
    {
     "data": {
      "text/html": [
       "<div style='background: rgb(247, 247, 247);'><form><textarea id='code'>type Foldable :: (* -> *) -> Constraint\n",
       "class Foldable t where\n",
       "  ...\n",
       "  foldr :: (a -> b -> b) -> b -> t a -> b\n",
       "  ...\n",
       "  \t-- Defined in ‘Data.Foldable’\n",
       "</textarea></form></div><script>CodeMirror.fromTextArea(document.getElementById('code'), {mode: 'haskell', readOnly: 'nocursor'});</script>"
      ],
      "text/plain": [
       "type Foldable :: (* -> *) -> Constraint\n",
       "class Foldable t where\n",
       "  ...\n",
       "  foldr :: (a -> b -> b) -> b -> t a -> b\n",
       "  ...\n",
       "  \t-- Defined in ‘Data.Foldable’"
      ]
     },
     "metadata": {},
     "output_type": "display_data"
    }
   ],
   "source": [
    ":i foldr"
   ]
  },
  {
   "cell_type": "code",
   "execution_count": 11,
   "metadata": {
    "execution": {
     "iopub.execute_input": "2024-06-27T10:52:44.538187Z",
     "iopub.status.busy": "2024-06-27T10:52:44.537821Z",
     "iopub.status.idle": "2024-06-27T10:52:44.766680Z",
     "shell.execute_reply": "2024-06-27T10:52:44.766147Z"
    },
    "tags": []
   },
   "outputs": [
    {
     "data": {
      "text/html": [
       "<style>/* Styles used for the Hoogle display in the pager */\n",
       ".hoogle-doc {\n",
       "display: block;\n",
       "padding-bottom: 1.3em;\n",
       "padding-left: 0.4em;\n",
       "}\n",
       ".hoogle-code {\n",
       "display: block;\n",
       "font-family: monospace;\n",
       "white-space: pre;\n",
       "}\n",
       ".hoogle-text {\n",
       "display: block;\n",
       "}\n",
       ".hoogle-name {\n",
       "color: green;\n",
       "font-weight: bold;\n",
       "}\n",
       ".hoogle-head {\n",
       "font-weight: bold;\n",
       "}\n",
       ".hoogle-sub {\n",
       "display: block;\n",
       "margin-left: 0.4em;\n",
       "}\n",
       ".hoogle-package {\n",
       "font-weight: bold;\n",
       "font-style: italic;\n",
       "}\n",
       ".hoogle-module {\n",
       "font-weight: bold;\n",
       "}\n",
       ".hoogle-class {\n",
       "font-weight: bold;\n",
       "}\n",
       ".get-type {\n",
       "color: green;\n",
       "font-weight: bold;\n",
       "font-family: monospace;\n",
       "display: block;\n",
       "white-space: pre-wrap;\n",
       "}\n",
       ".show-type {\n",
       "color: green;\n",
       "font-weight: bold;\n",
       "font-family: monospace;\n",
       "margin-left: 1em;\n",
       "}\n",
       ".mono {\n",
       "font-family: monospace;\n",
       "display: block;\n",
       "}\n",
       ".err-msg {\n",
       "color: red;\n",
       "font-style: italic;\n",
       "font-family: monospace;\n",
       "white-space: pre;\n",
       "display: block;\n",
       "}\n",
       "#unshowable {\n",
       "color: red;\n",
       "font-weight: bold;\n",
       "}\n",
       ".err-msg.in.collapse {\n",
       "padding-top: 0.7em;\n",
       "}\n",
       ".highlight-code {\n",
       "white-space: pre;\n",
       "font-family: monospace;\n",
       "}\n",
       ".suggestion-warning { \n",
       "font-weight: bold;\n",
       "color: rgb(200, 130, 0);\n",
       "}\n",
       ".suggestion-error { \n",
       "font-weight: bold;\n",
       "color: red;\n",
       "}\n",
       ".suggestion-name {\n",
       "font-weight: bold;\n",
       "}\n",
       "</style><div class=\"suggestion-name\" style=\"clear:both;\">Use sum</div><div class=\"suggestion-row\" style=\"float: left;\"><div class=\"suggestion-warning\">Found:</div><div class=\"highlight-code\" id=\"haskell\">foldr (+) 0</div></div><div class=\"suggestion-row\" style=\"float: left;\"><div class=\"suggestion-warning\">Why Not:</div><div class=\"highlight-code\" id=\"haskell\">sum</div></div>"
      ],
      "text/plain": [
       "Line 2: Use sum\n",
       "Found:\n",
       "foldr (+) 0\n",
       "Why not:\n",
       "sum"
      ]
     },
     "metadata": {},
     "output_type": "display_data"
    },
    {
     "data": {
      "text/plain": [
       "55"
      ]
     },
     "metadata": {},
     "output_type": "display_data"
    }
   ],
   "source": [
    "-- reduce\n",
    "foldr (+) 0 [1..10]"
   ]
  },
  {
   "cell_type": "markdown",
   "metadata": {
    "execution": {
     "iopub.execute_input": "2024-06-19T13:43:57.260429Z",
     "iopub.status.busy": "2024-06-19T13:43:57.259234Z",
     "iopub.status.idle": "2024-06-19T13:43:57.501816Z",
     "shell.execute_reply": "2024-06-19T13:43:57.500812Z"
    },
    "tags": []
   },
   "source": [
    "# Chain calling"
   ]
  },
  {
   "cell_type": "code",
   "execution_count": 12,
   "metadata": {
    "execution": {
     "iopub.execute_input": "2024-06-27T10:52:44.767636Z",
     "iopub.status.busy": "2024-06-27T10:52:44.767286Z",
     "iopub.status.idle": "2024-06-27T10:52:44.997908Z",
     "shell.execute_reply": "2024-06-27T10:52:44.997360Z"
    },
    "tags": []
   },
   "outputs": [
    {
     "data": {
      "text/html": [
       "<style>/* Styles used for the Hoogle display in the pager */\n",
       ".hoogle-doc {\n",
       "display: block;\n",
       "padding-bottom: 1.3em;\n",
       "padding-left: 0.4em;\n",
       "}\n",
       ".hoogle-code {\n",
       "display: block;\n",
       "font-family: monospace;\n",
       "white-space: pre;\n",
       "}\n",
       ".hoogle-text {\n",
       "display: block;\n",
       "}\n",
       ".hoogle-name {\n",
       "color: green;\n",
       "font-weight: bold;\n",
       "}\n",
       ".hoogle-head {\n",
       "font-weight: bold;\n",
       "}\n",
       ".hoogle-sub {\n",
       "display: block;\n",
       "margin-left: 0.4em;\n",
       "}\n",
       ".hoogle-package {\n",
       "font-weight: bold;\n",
       "font-style: italic;\n",
       "}\n",
       ".hoogle-module {\n",
       "font-weight: bold;\n",
       "}\n",
       ".hoogle-class {\n",
       "font-weight: bold;\n",
       "}\n",
       ".get-type {\n",
       "color: green;\n",
       "font-weight: bold;\n",
       "font-family: monospace;\n",
       "display: block;\n",
       "white-space: pre-wrap;\n",
       "}\n",
       ".show-type {\n",
       "color: green;\n",
       "font-weight: bold;\n",
       "font-family: monospace;\n",
       "margin-left: 1em;\n",
       "}\n",
       ".mono {\n",
       "font-family: monospace;\n",
       "display: block;\n",
       "}\n",
       ".err-msg {\n",
       "color: red;\n",
       "font-style: italic;\n",
       "font-family: monospace;\n",
       "white-space: pre;\n",
       "display: block;\n",
       "}\n",
       "#unshowable {\n",
       "color: red;\n",
       "font-weight: bold;\n",
       "}\n",
       ".err-msg.in.collapse {\n",
       "padding-top: 0.7em;\n",
       "}\n",
       ".highlight-code {\n",
       "white-space: pre;\n",
       "font-family: monospace;\n",
       "}\n",
       ".suggestion-warning { \n",
       "font-weight: bold;\n",
       "color: rgb(200, 130, 0);\n",
       "}\n",
       ".suggestion-error { \n",
       "font-weight: bold;\n",
       "color: red;\n",
       "}\n",
       ".suggestion-name {\n",
       "font-weight: bold;\n",
       "}\n",
       "</style><div class=\"suggestion-name\" style=\"clear:both;\">Use sum</div><div class=\"suggestion-row\" style=\"float: left;\"><div class=\"suggestion-warning\">Found:</div><div class=\"highlight-code\" id=\"haskell\">foldr (+) 0</div></div><div class=\"suggestion-row\" style=\"float: left;\"><div class=\"suggestion-warning\">Why Not:</div><div class=\"highlight-code\" id=\"haskell\">sum</div></div>"
      ],
      "text/plain": [
       "Line 1: Use sum\n",
       "Found:\n",
       "foldr (+) 0\n",
       "Why not:\n",
       "sum"
      ]
     },
     "metadata": {},
     "output_type": "display_data"
    },
    {
     "data": {
      "text/plain": [
       "30"
      ]
     },
     "metadata": {},
     "output_type": "display_data"
    }
   ],
   "source": [
    "foldr (+) 0 $ filter even $ map addOne [1..10]"
   ]
  },
  {
   "cell_type": "code",
   "execution_count": 13,
   "metadata": {
    "execution": {
     "iopub.execute_input": "2024-06-27T10:52:44.998820Z",
     "iopub.status.busy": "2024-06-27T10:52:44.998437Z",
     "iopub.status.idle": "2024-06-27T10:52:45.225444Z",
     "shell.execute_reply": "2024-06-27T10:52:45.225067Z"
    },
    "tags": []
   },
   "outputs": [
    {
     "data": {
      "text/plain": [
       "[2,4,6,8,10]"
      ]
     },
     "metadata": {},
     "output_type": "display_data"
    }
   ],
   "source": [
    "filter even $ map addOne [1..10]"
   ]
  },
  {
   "cell_type": "markdown",
   "metadata": {
    "execution": {
     "iopub.execute_input": "2024-06-27T10:50:59.255957Z",
     "iopub.status.busy": "2024-06-27T10:50:59.255622Z",
     "iopub.status.idle": "2024-06-27T10:50:59.260795Z",
     "shell.execute_reply": "2024-06-27T10:50:59.260009Z"
    }
   },
   "source": [
    "# Fibonacci"
   ]
  },
  {
   "cell_type": "code",
   "execution_count": 14,
   "metadata": {
    "execution": {
     "iopub.execute_input": "2024-06-27T10:52:45.226234Z",
     "iopub.status.busy": "2024-06-27T10:52:45.225858Z",
     "iopub.status.idle": "2024-06-27T10:52:45.349396Z",
     "shell.execute_reply": "2024-06-27T10:52:52.291144Z"
    },
    "tags": []
   },
   "outputs": [],
   "source": [
    "fib :: Int -> Int\n",
    "\n",
    "fib 0 = 0\n",
    "fib 1 = 1\n",
    "fib n = fib (n-1) + fib (n-2)"
   ]
  },
  {
   "cell_type": "code",
   "execution_count": 18,
   "metadata": {
    "execution": {
     "iopub.execute_input": "2024-06-27T10:53:58.458350Z",
     "iopub.status.busy": "2024-06-27T10:53:58.458025Z",
     "iopub.status.idle": "2024-06-27T10:53:58.685963Z",
     "shell.execute_reply": "2024-06-27T11:16:10.487924Z"
    },
    "tags": []
   },
   "outputs": [
    {
     "data": {
      "text/plain": [
       "[(1,1),(2,1),(3,2),(4,3),(5,5),(6,8),(7,13),(8,21),(9,34),(10,55)]"
      ]
     },
     "metadata": {},
     "output_type": "display_data"
    }
   ],
   "source": [
    "zip [1..10] (map fib [1..10])"
   ]
  },
  {
   "cell_type": "code",
   "execution_count": null,
   "metadata": {},
   "outputs": [],
   "source": []
  }
 ],
 "metadata": {
  "kernelspec": {
   "display_name": "Haskell",
   "language": "haskell",
   "name": "haskell"
  },
  "language_info": {
   "codemirror_mode": "ihaskell",
   "file_extension": ".hs",
   "mimetype": "text/x-haskell",
   "name": "haskell",
   "pygments_lexer": "Haskell",
   "version": "9.4.5"
  }
 },
 "nbformat": 4,
 "nbformat_minor": 4
}
