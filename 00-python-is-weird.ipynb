{
 "cells": [
  {
   "cell_type": "code",
   "execution_count": 1,
   "metadata": {},
   "outputs": [
    {
     "name": "stdout",
     "output_type": "stream",
     "text": [
      "arr = []\n",
      "0 \tarr = [1]\n",
      "1 \tarr = [1, 1]\n",
      "2 \tarr = [1, 1, 1]\n",
      "3 \tarr = [1, 1, 1, 1]\n",
      "4 \tarr = [1, 1, 1, 1, 1]\n"
     ]
    }
   ],
   "source": [
    "arr = []\n",
    "\n",
    "\n",
    "def append_element(arr):\n",
    "    arr.append(1)\n",
    "\n",
    "\n",
    "print(f\"{arr = }\")\n",
    "for i in range(5):\n",
    "    append_element(arr)\n",
    "    print(i, f\"\\t{arr = }\")"
   ]
  },
  {
   "cell_type": "code",
   "execution_count": 2,
   "metadata": {},
   "outputs": [
    {
     "name": "stdout",
     "output_type": "stream",
     "text": [
      "0 \tlist_dict = [{'num': 0}]\n",
      "1 \tlist_dict = [{'num': 1}, {'num': 1}]\n",
      "2 \tlist_dict = [{'num': 2}, {'num': 2}, {'num': 2}]\n",
      "3 \tlist_dict = [{'num': 3}, {'num': 3}, {'num': 3}, {'num': 3}]\n",
      "4 \tlist_dict = [{'num': 4}, {'num': 4}, {'num': 4}, {'num': 4}, {'num': 4}]\n"
     ]
    }
   ],
   "source": [
    "list_dict = []\n",
    "\n",
    "d = {'num': -1}\n",
    "\n",
    "for i in range(5):\n",
    "    d['num'] = i\n",
    "    list_dict.append(d)\n",
    "    print(i, f\"\\t{list_dict = }\")"
   ]
  },
  {
   "cell_type": "code",
   "execution_count": 3,
   "metadata": {},
   "outputs": [
    {
     "name": "stdout",
     "output_type": "stream",
     "text": [
      "0 \t round(0.0) = 0\n",
      "1 \t round(0.5) = 0\n",
      "2 \t round(1.0) = 1\n",
      "3 \t round(1.5) = 2\n",
      "4 \t round(2.0) = 2\n",
      "5 \t round(2.5) = 2\n",
      "6 \t round(3.0) = 3\n",
      "7 \t round(3.5) = 4\n",
      "8 \t round(4.0) = 4\n",
      "9 \t round(4.5) = 4\n",
      "10 \t round(5.0) = 5\n",
      "11 \t round(5.5) = 6\n",
      "12 \t round(6.0) = 6\n",
      "13 \t round(6.5) = 6\n",
      "14 \t round(7.0) = 7\n",
      "15 \t round(7.5) = 8\n",
      "16 \t round(8.0) = 8\n",
      "17 \t round(8.5) = 8\n",
      "18 \t round(9.0) = 9\n",
      "19 \t round(9.5) = 10\n"
     ]
    }
   ],
   "source": [
    "for i in range(20):\n",
    "    print(f\"{i} \\t round({i/2}) = {round(i/2)}\")"
   ]
  },
  {
   "cell_type": "code",
   "execution_count": null,
   "metadata": {},
   "outputs": [],
   "source": []
  }
 ],
 "metadata": {
  "kernelspec": {
   "display_name": "py312",
   "language": "python",
   "name": "python3"
  },
  "language_info": {
   "codemirror_mode": {
    "name": "ipython",
    "version": 3
   },
   "file_extension": ".py",
   "mimetype": "text/x-python",
   "name": "python",
   "nbconvert_exporter": "python",
   "pygments_lexer": "ipython3",
   "version": "3.12.4"
  }
 },
 "nbformat": 4,
 "nbformat_minor": 2
}
