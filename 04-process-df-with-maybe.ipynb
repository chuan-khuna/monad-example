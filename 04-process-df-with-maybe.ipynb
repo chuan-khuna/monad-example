{
 "cells": [
  {
   "cell_type": "code",
   "execution_count": 1,
   "metadata": {},
   "outputs": [],
   "source": [
    "from utils.tutorial_maybe import Just, Nothing, Maybe\n",
    "import pandas as pd"
   ]
  },
  {
   "cell_type": "code",
   "execution_count": 2,
   "metadata": {},
   "outputs": [],
   "source": [
    "def load_df(path: str) -> Maybe[pd.DataFrame]:\n",
    "    try:\n",
    "        return Just(pd.read_csv(path))\n",
    "    except FileNotFoundError:\n",
    "        return Nothing('File not found')\n",
    "\n",
    "\n",
    "def convert_height_cm_to_m(height_cm_col: str, target_col: str):\n",
    "    def convert(df: pd.DataFrame) -> Maybe[pd.DataFrame]:\n",
    "        try:\n",
    "            df[target_col] = df[height_cm_col] / 100.0\n",
    "            return Just(df)\n",
    "        except Exception as e:\n",
    "            return Nothing(str(e))\n",
    "\n",
    "    return convert\n",
    "\n",
    "\n",
    "def calculate_bmi(weight_kg_col: str, height_m_col: str, target_col: str):\n",
    "    def calculate(df: pd.DataFrame) -> Maybe[pd.DataFrame]:\n",
    "        try:\n",
    "            df[target_col] = round(df[weight_kg_col] / (df[height_m_col] ** 2), 2)\n",
    "            return Just(df)\n",
    "        except Exception as e:\n",
    "            return Nothing(str(e))\n",
    "\n",
    "    return calculate"
   ]
  },
  {
   "cell_type": "code",
   "execution_count": 3,
   "metadata": {},
   "outputs": [
    {
     "data": {
      "text/plain": [
       "(Nothing, 'File not found')"
      ]
     },
     "execution_count": 3,
     "metadata": {},
     "output_type": "execute_result"
    }
   ],
   "source": [
    "maybe_df = (\n",
    "    load_df('file_not_found.csv')\n",
    "    >> convert_height_cm_to_m('height_cm', 'height_m')\n",
    "    >> calculate_bmi('weight', 'height_m', 'bmi')\n",
    ")\n",
    "maybe_df, maybe_df.error"
   ]
  },
  {
   "cell_type": "code",
   "execution_count": 4,
   "metadata": {},
   "outputs": [
    {
     "data": {
      "text/plain": [
       "Just(      name  height_cm  weight  height_m    bmi\n",
       "0    Alice        170      55      1.70  19.03\n",
       "1      Bob        180      70      1.80  21.60\n",
       "2  Charlie        175      65      1.75  21.22\n",
       "3    David        203     110      2.03  26.69\n",
       "4      Eve        173      60      1.73  20.05\n",
       "5    Frank        155     110      1.55  45.79\n",
       "6    Grace        169      45      1.69  15.76\n",
       "7   Hannah        165      50      1.65  18.37\n",
       "8     Ivan        175      70      1.75  22.86\n",
       "9     John        210      95      2.10  21.54)"
      ]
     },
     "execution_count": 4,
     "metadata": {},
     "output_type": "execute_result"
    }
   ],
   "source": [
    "maybe_df = (\n",
    "    load_df('data/good.csv')\n",
    "    >> convert_height_cm_to_m('height_cm', 'height_m')\n",
    "    >> calculate_bmi('weight', 'height_m', 'bmi')\n",
    ")\n",
    "maybe_df"
   ]
  },
  {
   "cell_type": "code",
   "execution_count": null,
   "metadata": {},
   "outputs": [],
   "source": []
  },
  {
   "cell_type": "code",
   "execution_count": null,
   "metadata": {},
   "outputs": [],
   "source": []
  },
  {
   "cell_type": "code",
   "execution_count": null,
   "metadata": {},
   "outputs": [],
   "source": []
  }
 ],
 "metadata": {
  "kernelspec": {
   "display_name": "py312",
   "language": "python",
   "name": "python3"
  },
  "language_info": {
   "codemirror_mode": {
    "name": "ipython",
    "version": 3
   },
   "file_extension": ".py",
   "mimetype": "text/x-python",
   "name": "python",
   "nbconvert_exporter": "python",
   "pygments_lexer": "ipython3",
   "version": "3.12.4"
  }
 },
 "nbformat": 4,
 "nbformat_minor": 2
}
