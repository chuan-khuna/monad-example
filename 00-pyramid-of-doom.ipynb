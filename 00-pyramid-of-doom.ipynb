{
 "cells": [
  {
   "cell_type": "code",
   "execution_count": 1,
   "metadata": {},
   "outputs": [],
   "source": [
    "import pandas as pd"
   ]
  },
  {
   "cell_type": "code",
   "execution_count": 2,
   "metadata": {},
   "outputs": [],
   "source": [
    "def process_bmi(data_file: str, weight_kg_col: str, height_cm_col: str) -> pd.DataFrame | None:\n",
    "    # load data\n",
    "    # read weight column\n",
    "    # read height column\n",
    "    # calculate BMI\n",
    "    # return df\n",
    "    try:\n",
    "        df = pd.read_csv(data_file)\n",
    "        try:\n",
    "            weights = df[weight_kg_col]\n",
    "            try:\n",
    "                heights = df[height_cm_col]\n",
    "                try:\n",
    "                    bmi = weights / (heights / 100) ** 2\n",
    "                    df['bmi'] = bmi.round(1)\n",
    "                    return df\n",
    "                except Exception as e:\n",
    "                    print(f\"Error calculating BMI: {e}\")\n",
    "                    return None\n",
    "            except Exception as e:\n",
    "                print(f\"Error reading height column: {e}\")\n",
    "                return None\n",
    "        except Exception as e:\n",
    "            print(f\"Error reading weight column: {e}\")\n",
    "            return None\n",
    "    except Exception as e:\n",
    "        print(f\"Error reading file: {e}\")\n",
    "        return None"
   ]
  },
  {
   "cell_type": "code",
   "execution_count": 3,
   "metadata": {},
   "outputs": [],
   "source": [
    "csv_file = \"data/good.csv\""
   ]
  },
  {
   "cell_type": "code",
   "execution_count": 4,
   "metadata": {},
   "outputs": [
    {
     "name": "stdout",
     "output_type": "stream",
     "text": [
      "<class 'pandas.core.frame.DataFrame'>\n"
     ]
    },
    {
     "data": {
      "text/html": [
       "<div>\n",
       "<style scoped>\n",
       "    .dataframe tbody tr th:only-of-type {\n",
       "        vertical-align: middle;\n",
       "    }\n",
       "\n",
       "    .dataframe tbody tr th {\n",
       "        vertical-align: top;\n",
       "    }\n",
       "\n",
       "    .dataframe thead th {\n",
       "        text-align: right;\n",
       "    }\n",
       "</style>\n",
       "<table border=\"1\" class=\"dataframe\">\n",
       "  <thead>\n",
       "    <tr style=\"text-align: right;\">\n",
       "      <th></th>\n",
       "      <th>name</th>\n",
       "      <th>height_cm</th>\n",
       "      <th>weight</th>\n",
       "      <th>bmi</th>\n",
       "    </tr>\n",
       "  </thead>\n",
       "  <tbody>\n",
       "    <tr>\n",
       "      <th>0</th>\n",
       "      <td>Alice</td>\n",
       "      <td>170</td>\n",
       "      <td>55</td>\n",
       "      <td>19.0</td>\n",
       "    </tr>\n",
       "    <tr>\n",
       "      <th>1</th>\n",
       "      <td>Bob</td>\n",
       "      <td>180</td>\n",
       "      <td>70</td>\n",
       "      <td>21.6</td>\n",
       "    </tr>\n",
       "    <tr>\n",
       "      <th>2</th>\n",
       "      <td>Charlie</td>\n",
       "      <td>175</td>\n",
       "      <td>65</td>\n",
       "      <td>21.2</td>\n",
       "    </tr>\n",
       "    <tr>\n",
       "      <th>3</th>\n",
       "      <td>David</td>\n",
       "      <td>203</td>\n",
       "      <td>110</td>\n",
       "      <td>26.7</td>\n",
       "    </tr>\n",
       "    <tr>\n",
       "      <th>4</th>\n",
       "      <td>Eve</td>\n",
       "      <td>173</td>\n",
       "      <td>60</td>\n",
       "      <td>20.0</td>\n",
       "    </tr>\n",
       "    <tr>\n",
       "      <th>5</th>\n",
       "      <td>Frank</td>\n",
       "      <td>155</td>\n",
       "      <td>110</td>\n",
       "      <td>45.8</td>\n",
       "    </tr>\n",
       "    <tr>\n",
       "      <th>6</th>\n",
       "      <td>Grace</td>\n",
       "      <td>169</td>\n",
       "      <td>45</td>\n",
       "      <td>15.8</td>\n",
       "    </tr>\n",
       "    <tr>\n",
       "      <th>7</th>\n",
       "      <td>Hannah</td>\n",
       "      <td>165</td>\n",
       "      <td>50</td>\n",
       "      <td>18.4</td>\n",
       "    </tr>\n",
       "    <tr>\n",
       "      <th>8</th>\n",
       "      <td>Ivan</td>\n",
       "      <td>175</td>\n",
       "      <td>70</td>\n",
       "      <td>22.9</td>\n",
       "    </tr>\n",
       "    <tr>\n",
       "      <th>9</th>\n",
       "      <td>John</td>\n",
       "      <td>210</td>\n",
       "      <td>95</td>\n",
       "      <td>21.5</td>\n",
       "    </tr>\n",
       "  </tbody>\n",
       "</table>\n",
       "</div>"
      ],
      "text/plain": [
       "      name  height_cm  weight   bmi\n",
       "0    Alice        170      55  19.0\n",
       "1      Bob        180      70  21.6\n",
       "2  Charlie        175      65  21.2\n",
       "3    David        203     110  26.7\n",
       "4      Eve        173      60  20.0\n",
       "5    Frank        155     110  45.8\n",
       "6    Grace        169      45  15.8\n",
       "7   Hannah        165      50  18.4\n",
       "8     Ivan        175      70  22.9\n",
       "9     John        210      95  21.5"
      ]
     },
     "execution_count": 4,
     "metadata": {},
     "output_type": "execute_result"
    }
   ],
   "source": [
    "df = process_bmi(csv_file, \"weight\", \"height_cm\")\n",
    "print(type(df))\n",
    "df"
   ]
  },
  {
   "cell_type": "code",
   "execution_count": 5,
   "metadata": {},
   "outputs": [
    {
     "name": "stdout",
     "output_type": "stream",
     "text": [
      "Error reading weight column: 'Weight'\n",
      "<class 'NoneType'>\n"
     ]
    }
   ],
   "source": [
    "df = process_bmi(csv_file, \"Weight\", \"Height\")\n",
    "print(type(df))\n",
    "df"
   ]
  },
  {
   "cell_type": "code",
   "execution_count": 6,
   "metadata": {},
   "outputs": [
    {
     "name": "stdout",
     "output_type": "stream",
     "text": [
      "Error reading file: [Errno 2] No such file or directory: 'data/file_not_found.csv'\n",
      "<class 'NoneType'>\n"
     ]
    }
   ],
   "source": [
    "df = process_bmi(\"data/file_not_found.csv\", \"Weight\", \"Height\")\n",
    "print(type(df))\n",
    "df"
   ]
  },
  {
   "cell_type": "code",
   "execution_count": null,
   "metadata": {},
   "outputs": [],
   "source": []
  }
 ],
 "metadata": {
  "kernelspec": {
   "display_name": "py312",
   "language": "python",
   "name": "python3"
  },
  "language_info": {
   "codemirror_mode": {
    "name": "ipython",
    "version": 3
   },
   "file_extension": ".py",
   "mimetype": "text/x-python",
   "name": "python",
   "nbconvert_exporter": "python",
   "pygments_lexer": "ipython3",
   "version": "3.12.4"
  }
 },
 "nbformat": 4,
 "nbformat_minor": 2
}
