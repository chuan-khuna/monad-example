{
 "cells": [
  {
   "cell_type": "code",
   "execution_count": 1,
   "metadata": {},
   "outputs": [],
   "source": [
    "# global state\n",
    "\n",
    "counter = 0"
   ]
  },
  {
   "cell_type": "code",
   "execution_count": 2,
   "metadata": {},
   "outputs": [],
   "source": [
    "def f(x):\n",
    "    # global state can affect the output\n",
    "    global counter\n",
    "    # mutate state for next call\n",
    "    # \"side effect\"\n",
    "    counter += 1\n",
    "\n",
    "    # return output that depends on the state\n",
    "    return x + (counter - 1)\n",
    "\n",
    "\n",
    "def pure_f(x):\n",
    "    return x"
   ]
  },
  {
   "cell_type": "code",
   "execution_count": 3,
   "metadata": {},
   "outputs": [
    {
     "name": "stdout",
     "output_type": "stream",
     "text": [
      "counter=0\n",
      "call#1 result=1\n",
      "\n",
      "counter=1\n",
      "call#2 result=2\n",
      "\n",
      "counter=2\n",
      "call#3 result=3\n",
      "\n",
      "counter=3\n",
      "call#4 result=4\n",
      "\n",
      "counter=4\n",
      "call#5 result=5\n",
      "\n"
     ]
    }
   ],
   "source": [
    "ARG = 1\n",
    "\n",
    "for i in range(5):\n",
    "    print(f\"{counter=}\")\n",
    "    result = f(ARG)\n",
    "    print(f\"call#{i+1} {result=}\")\n",
    "    print(\"\")"
   ]
  },
  {
   "cell_type": "code",
   "execution_count": 4,
   "metadata": {},
   "outputs": [
    {
     "name": "stdout",
     "output_type": "stream",
     "text": [
      "counter=5\n",
      "call#1 result=1\n",
      "\n",
      "counter=5\n",
      "call#2 result=1\n",
      "\n",
      "counter=5\n",
      "call#3 result=1\n",
      "\n",
      "counter=5\n",
      "call#4 result=1\n",
      "\n",
      "counter=5\n",
      "call#5 result=1\n",
      "\n"
     ]
    }
   ],
   "source": [
    "ARG = 1\n",
    "\n",
    "for i in range(5):\n",
    "    print(f\"{counter=}\")\n",
    "    result = pure_f(ARG)\n",
    "    print(f\"call#{i+1} {result=}\")\n",
    "    print(\"\")"
   ]
  }
 ],
 "metadata": {
  "kernelspec": {
   "display_name": "py312",
   "language": "python",
   "name": "python3"
  },
  "language_info": {
   "codemirror_mode": {
    "name": "ipython",
    "version": 3
   },
   "file_extension": ".py",
   "mimetype": "text/x-python",
   "name": "python",
   "nbconvert_exporter": "python",
   "pygments_lexer": "ipython3",
   "version": "3.1.-1"
  }
 },
 "nbformat": 4,
 "nbformat_minor": 2
}
