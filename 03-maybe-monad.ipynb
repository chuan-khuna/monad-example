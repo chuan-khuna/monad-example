{
 "cells": [
  {
   "cell_type": "code",
   "execution_count": 1,
   "metadata": {
    "slideshow": {
     "slide_type": "skip"
    }
   },
   "outputs": [],
   "source": [
    "from typing import Generic, TypeVar, Callable\n",
    "\n",
    "# function input T -> output S\n",
    "T = TypeVar('T')  # value type T\n",
    "S = TypeVar('S')  # value type S\n",
    "\n",
    "E = TypeVar('E')  # error type E"
   ]
  },
  {
   "cell_type": "markdown",
   "metadata": {
    "slideshow": {
     "slide_type": "slide"
    }
   },
   "source": [
    "# Maybe Monad\n",
    "\n",
    "Maybe monad wraps a value with two possible states: `Just` and `Nothing`.\n"
   ]
  },
  {
   "cell_type": "markdown",
   "metadata": {
    "slideshow": {
     "slide_type": "slide"
    }
   },
   "source": [
    "# Implementing `Maybe` Monad\n"
   ]
  },
  {
   "cell_type": "code",
   "execution_count": 2,
   "metadata": {
    "slideshow": {
     "slide_type": "subslide"
    }
   },
   "outputs": [],
   "source": [
    "class Maybe(Generic[T]):\n",
    "    def __init__(self, value: T):\n",
    "        self.value = value\n",
    "\n",
    "    def is_nothing(self) -> bool: ...\n",
    "    def is_just(self) -> bool: ...\n",
    "\n",
    "    # haskell\n",
    "    # bind :: m a -> (a -> m b) -> m b\n",
    "    def bind(self, f: Callable[[T], 'Maybe[S]']) -> 'Maybe[S]': ...\n",
    "\n",
    "    def __rshift__(self, f: Callable[[T], 'Maybe[S]']) -> 'Maybe[S]':\n",
    "        # a >> func = a.bind(func)\n",
    "        return self.bind(f)"
   ]
  },
  {
   "cell_type": "code",
   "execution_count": 3,
   "metadata": {
    "slideshow": {
     "slide_type": "subslide"
    }
   },
   "outputs": [],
   "source": [
    "class Just(Maybe[T]):\n",
    "    \"\"\"Wrapper for a value of type T\"\"\"\n",
    "\n",
    "    def __init__(self, value: T):\n",
    "        self.value = value\n",
    "\n",
    "    def is_nothing(self) -> bool:\n",
    "        return False\n",
    "\n",
    "    def is_just(self) -> bool:\n",
    "        return True\n",
    "\n",
    "    def __repr__(self) -> str:\n",
    "        return f'Just({self.value.__repr__()})'\n",
    "\n",
    "    def bind(self, f: Callable[[T], Maybe[S]]) -> Maybe[S]:\n",
    "        return f(self.value)"
   ]
  },
  {
   "cell_type": "code",
   "execution_count": 4,
   "metadata": {
    "slideshow": {
     "slide_type": "subslide"
    }
   },
   "outputs": [],
   "source": [
    "class Nothing(Maybe):\n",
    "    \"\"\"\n",
    "    Wrapper for an error message (str)\n",
    "    \"\"\"\n",
    "\n",
    "    def __init__(self, value: str):\n",
    "        # use value to store error message\n",
    "        self.value = value\n",
    "        self.error = value\n",
    "\n",
    "    def is_nothing(self) -> bool:\n",
    "        return True\n",
    "\n",
    "    def is_just(self) -> bool:\n",
    "        return False\n",
    "\n",
    "    def __repr__(self) -> str:\n",
    "        return 'Nothing'\n",
    "\n",
    "    def bind(self, f: Callable[[T], Maybe[S]]) -> Maybe[S]:\n",
    "        # return self, which is Nothing(error_message)\n",
    "        return self"
   ]
  },
  {
   "cell_type": "markdown",
   "metadata": {
    "slideshow": {
     "slide_type": "slide"
    }
   },
   "source": [
    "# Divide function with `Maybe` Monad\n",
    "\n",
    "```haskell\n",
    "divide :: Float -> Float -> Maybe Float\n",
    "divide x 0 = Nothing\n",
    "divide x y = Just (x / y)\n",
    "```\n"
   ]
  },
  {
   "cell_type": "code",
   "execution_count": 5,
   "metadata": {
    "slideshow": {
     "slide_type": "subslide"
    }
   },
   "outputs": [],
   "source": [
    "def divide(x: float, y: float) -> Maybe[float]:\n",
    "    if y == 0:\n",
    "        return Nothing('division by zero')\n",
    "    return Just(x / y)\n",
    "\n",
    "\n",
    "divided_by_two = lambda x: divide(x, 2)\n",
    "divided_by_zero = lambda x: divide(x, 0)"
   ]
  },
  {
   "cell_type": "code",
   "execution_count": 6,
   "metadata": {},
   "outputs": [
    {
     "data": {
      "text/plain": [
       "Nothing"
      ]
     },
     "execution_count": 6,
     "metadata": {},
     "output_type": "execute_result"
    }
   ],
   "source": [
    "divide(10, 0)"
   ]
  },
  {
   "cell_type": "code",
   "execution_count": 7,
   "metadata": {},
   "outputs": [
    {
     "data": {
      "text/plain": [
       "Just(5.0)"
      ]
     },
     "execution_count": 7,
     "metadata": {},
     "output_type": "execute_result"
    }
   ],
   "source": [
    "divide(10, 2)"
   ]
  },
  {
   "cell_type": "code",
   "execution_count": 8,
   "metadata": {},
   "outputs": [
    {
     "data": {
      "text/plain": [
       "Just(5.0)"
      ]
     },
     "execution_count": 8,
     "metadata": {},
     "output_type": "execute_result"
    }
   ],
   "source": [
    "divided_by_two(10)"
   ]
  },
  {
   "cell_type": "code",
   "execution_count": 9,
   "metadata": {},
   "outputs": [
    {
     "data": {
      "text/plain": [
       "Nothing"
      ]
     },
     "execution_count": 9,
     "metadata": {},
     "output_type": "execute_result"
    }
   ],
   "source": [
    "divided_by_zero(10)"
   ]
  },
  {
   "cell_type": "markdown",
   "metadata": {
    "slideshow": {
     "slide_type": "slide"
    }
   },
   "source": [
    "## But we cannot compose functions on values wrapped in Maybe monad\n",
    "\n",
    "```haskell\n",
    "wrapped_func :: a -> Maybe b\n",
    "```\n"
   ]
  },
  {
   "cell_type": "code",
   "execution_count": 11,
   "metadata": {},
   "outputs": [
    {
     "ename": "TypeError",
     "evalue": "unsupported operand type(s) for /: 'Just' and 'int'",
     "output_type": "error",
     "traceback": [
      "\u001b[0;31m---------------------------------------------------------------------------\u001b[0m",
      "\u001b[0;31mTypeError\u001b[0m                                 Traceback (most recent call last)",
      "Cell \u001b[0;32mIn[11], line 1\u001b[0m\n\u001b[0;32m----> 1\u001b[0m \u001b[43mdivided_by_two\u001b[49m\u001b[43m(\u001b[49m\u001b[43mdivided_by_two\u001b[49m\u001b[43m(\u001b[49m\u001b[38;5;241;43m10\u001b[39;49m\u001b[43m)\u001b[49m\u001b[43m)\u001b[49m\n",
      "Cell \u001b[0;32mIn[5], line 7\u001b[0m, in \u001b[0;36m<lambda>\u001b[0;34m(x)\u001b[0m\n\u001b[1;32m      3\u001b[0m         \u001b[38;5;28;01mreturn\u001b[39;00m Nothing(\u001b[38;5;124m'\u001b[39m\u001b[38;5;124mdivision by zero\u001b[39m\u001b[38;5;124m'\u001b[39m)\n\u001b[1;32m      4\u001b[0m     \u001b[38;5;28;01mreturn\u001b[39;00m Just(x \u001b[38;5;241m/\u001b[39m y)\n\u001b[0;32m----> 7\u001b[0m divided_by_two \u001b[38;5;241m=\u001b[39m \u001b[38;5;28;01mlambda\u001b[39;00m x: \u001b[43mdivide\u001b[49m\u001b[43m(\u001b[49m\u001b[43mx\u001b[49m\u001b[43m,\u001b[49m\u001b[43m \u001b[49m\u001b[38;5;241;43m2\u001b[39;49m\u001b[43m)\u001b[49m\n\u001b[1;32m      8\u001b[0m divided_by_zero \u001b[38;5;241m=\u001b[39m \u001b[38;5;28;01mlambda\u001b[39;00m x: divide(x, \u001b[38;5;241m0\u001b[39m)\n",
      "Cell \u001b[0;32mIn[5], line 4\u001b[0m, in \u001b[0;36mdivide\u001b[0;34m(x, y)\u001b[0m\n\u001b[1;32m      2\u001b[0m \u001b[38;5;28;01mif\u001b[39;00m y \u001b[38;5;241m==\u001b[39m \u001b[38;5;241m0\u001b[39m:\n\u001b[1;32m      3\u001b[0m     \u001b[38;5;28;01mreturn\u001b[39;00m Nothing(\u001b[38;5;124m'\u001b[39m\u001b[38;5;124mdivision by zero\u001b[39m\u001b[38;5;124m'\u001b[39m)\n\u001b[0;32m----> 4\u001b[0m \u001b[38;5;28;01mreturn\u001b[39;00m Just(\u001b[43mx\u001b[49m\u001b[43m \u001b[49m\u001b[38;5;241;43m/\u001b[39;49m\u001b[43m \u001b[49m\u001b[43my\u001b[49m)\n",
      "\u001b[0;31mTypeError\u001b[0m: unsupported operand type(s) for /: 'Just' and 'int'"
     ]
    }
   ],
   "source": [
    "divided_by_two(divided_by_two(10))"
   ]
  },
  {
   "cell_type": "markdown",
   "metadata": {
    "slideshow": {
     "slide_type": "subslide"
    }
   },
   "source": [
    "When chain calling we need a function that do something below\n",
    "\n",
    "```haskell\n",
    "bind :: m a -> (a -> m b) -> m b\n",
    "```\n"
   ]
  },
  {
   "cell_type": "markdown",
   "metadata": {
    "slideshow": {
     "slide_type": "slide"
    }
   },
   "source": [
    "# Take a break\n",
    "\n",
    "Let's see the function like that we have used before `List.map`.\n",
    "\n",
    "`map` type signature\n",
    "\n",
    "```haskell\n",
    "map :: (a -> b) -> [a] -> [b]\n",
    "```\n",
    "\n",
    "```python\n",
    "# map :: (a -> b), [a]\n",
    "# return [b]\n",
    "map(func, iterable)\n",
    "```\n"
   ]
  },
  {
   "cell_type": "code",
   "execution_count": 12,
   "metadata": {
    "slideshow": {
     "slide_type": "subslide"
    }
   },
   "outputs": [
    {
     "data": {
      "text/plain": [
       "[0.5, 1.0, 1.5, 2.0, 2.5]"
      ]
     },
     "execution_count": 12,
     "metadata": {},
     "output_type": "execute_result"
    }
   ],
   "source": [
    "# arr :: [int]\n",
    "arr = [1, 2, 3, 4, 5]\n",
    "\n",
    "# divide_by_two :: int -> float\n",
    "divide_by_two = lambda x: x / 2.0\n",
    "\n",
    "# map :: (a -> b) -> [a] -> [b]\n",
    "list(map(divide_by_two, arr))"
   ]
  },
  {
   "cell_type": "code",
   "execution_count": 13,
   "metadata": {},
   "outputs": [
    {
     "data": {
      "text/plain": [
       "[2, 4]"
      ]
     },
     "execution_count": 13,
     "metadata": {},
     "output_type": "execute_result"
    }
   ],
   "source": [
    "list(filter(lambda x: x % 2 == 0, arr))"
   ]
  },
  {
   "cell_type": "markdown",
   "metadata": {
    "slideshow": {
     "slide_type": "subslide"
    }
   },
   "source": [
    "# Map and Bind\n",
    "\n",
    "```haskell\n",
    "map :: (a -> b) -> [a] -> [b]\n",
    "bind :: m a -> (a -> m b) -> m b\n",
    "```\n"
   ]
  },
  {
   "cell_type": "markdown",
   "metadata": {
    "slideshow": {
     "slide_type": "slide"
    }
   },
   "source": [
    "# Composition with `Maybe.bind`\n",
    "\n",
    "`>>` operator is a shorthand for `bind` function\n",
    "\n",
    "```python\n",
    "def __rshift__(self, f: Callable[[T], 'Maybe[S]']) -> 'Maybe[S]':\n",
    "    # a >> func = a.bind(func)\n",
    "    return self.bind(f)\n",
    "```\n"
   ]
  },
  {
   "cell_type": "code",
   "execution_count": 14,
   "metadata": {
    "slideshow": {
     "slide_type": "subslide"
    }
   },
   "outputs": [
    {
     "data": {
      "text/plain": [
       "Just(16.0)"
      ]
     },
     "execution_count": 14,
     "metadata": {},
     "output_type": "execute_result"
    }
   ],
   "source": [
    "(\n",
    "    divided_by_two(1024)\n",
    "    >> divided_by_two\n",
    "    >> divided_by_two\n",
    "    >> divided_by_two\n",
    "    >> divided_by_two\n",
    "    >> divided_by_two\n",
    ")"
   ]
  },
  {
   "cell_type": "code",
   "execution_count": 15,
   "metadata": {
    "slideshow": {
     "slide_type": "subslide"
    }
   },
   "outputs": [
    {
     "data": {
      "text/plain": [
       "Nothing"
      ]
     },
     "execution_count": 15,
     "metadata": {},
     "output_type": "execute_result"
    }
   ],
   "source": [
    "(\n",
    "    divided_by_two(1024)\n",
    "    >> divided_by_two\n",
    "    >> divided_by_zero\n",
    "    >> divided_by_two\n",
    "    >> divided_by_two\n",
    "    >> divided_by_two\n",
    ")"
   ]
  }
 ],
 "metadata": {
  "kernelspec": {
   "display_name": "py312",
   "language": "python",
   "name": "python3"
  },
  "language_info": {
   "codemirror_mode": {
    "name": "ipython",
    "version": 3
   },
   "file_extension": ".py",
   "mimetype": "text/x-python",
   "name": "python",
   "nbconvert_exporter": "python",
   "pygments_lexer": "ipython3",
   "version": "3.12.4"
  }
 },
 "nbformat": 4,
 "nbformat_minor": 2
}
