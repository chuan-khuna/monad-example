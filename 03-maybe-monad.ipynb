{
 "cells": [
  {
   "cell_type": "markdown",
   "metadata": {},
   "source": [
    "# Maybe Monad\n"
   ]
  },
  {
   "cell_type": "code",
   "execution_count": 1,
   "metadata": {},
   "outputs": [],
   "source": [
    "from typing import Generic, TypeVar\n",
    "\n",
    "T = TypeVar('T')  # value type T\n",
    "E = TypeVar('E')  # error type E\n",
    "\n",
    "\n",
    "class Maybe(Generic[T]):\n",
    "    def __init__(self, value: T):\n",
    "        self.value = value\n",
    "\n",
    "    def is_nothing(self) -> bool: ...\n",
    "    def is_just(self) -> bool: ...\n",
    "\n",
    "\n",
    "class Just(Maybe[T]):\n",
    "\n",
    "    def __init__(self, value: T):\n",
    "        self.value = value\n",
    "\n",
    "    def is_nothing(self) -> bool:\n",
    "        return False\n",
    "\n",
    "    def is_just(self) -> bool:\n",
    "        return True\n",
    "\n",
    "    def __repr__(self) -> str:\n",
    "        return f'Just({self.value})'\n",
    "\n",
    "\n",
    "class Nothing(Maybe[E]):\n",
    "\n",
    "    def __init__(self, value: E):\n",
    "        # use value to store error message\n",
    "        self.value = value\n",
    "        self.error = value\n",
    "\n",
    "    def is_nothing(self) -> bool:\n",
    "        return True\n",
    "\n",
    "    def is_just(self) -> bool:\n",
    "        return False\n",
    "\n",
    "    def __repr__(self) -> str:\n",
    "        return 'Nothing'"
   ]
  },
  {
   "cell_type": "code",
   "execution_count": 2,
   "metadata": {},
   "outputs": [],
   "source": [
    "def divide(a: float, b: float) -> Maybe[float]:\n",
    "    if b == 0:\n",
    "        return Nothing('division by zero')\n",
    "    return Just(a / b)"
   ]
  },
  {
   "cell_type": "code",
   "execution_count": 3,
   "metadata": {},
   "outputs": [
    {
     "data": {
      "text/plain": [
       "Nothing"
      ]
     },
     "execution_count": 3,
     "metadata": {},
     "output_type": "execute_result"
    }
   ],
   "source": [
    "divide(10, 0)"
   ]
  },
  {
   "cell_type": "code",
   "execution_count": 4,
   "metadata": {},
   "outputs": [
    {
     "data": {
      "text/plain": [
       "Just(10.0)"
      ]
     },
     "execution_count": 4,
     "metadata": {},
     "output_type": "execute_result"
    }
   ],
   "source": [
    "divide(10, 1)"
   ]
  },
  {
   "cell_type": "code",
   "execution_count": null,
   "metadata": {},
   "outputs": [],
   "source": []
  }
 ],
 "metadata": {
  "kernelspec": {
   "display_name": "py312",
   "language": "python",
   "name": "python3"
  },
  "language_info": {
   "codemirror_mode": {
    "name": "ipython",
    "version": 3
   },
   "file_extension": ".py",
   "mimetype": "text/x-python",
   "name": "python",
   "nbconvert_exporter": "python",
   "pygments_lexer": "ipython3",
   "version": "3.12.4"
  }
 },
 "nbformat": 4,
 "nbformat_minor": 2
}
