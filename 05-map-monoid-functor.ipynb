{
 "cells": [
  {
   "cell_type": "markdown",
   "id": "f28f0a75",
   "metadata": {},
   "source": [
    "# Map\n",
    "\n",
    "`map` or `fmap`\n",
    "\n",
    "We wrap a value with `Maybe`, which has two possible states: `Just` or `Nothing`. -- `Just(value)` and `Nothing`\n",
    "\n",
    "---\n",
    "\n",
    "The world of normal values, eg `int, string, bool`\n",
    "\n",
    "vs\n",
    "\n",
    "The world of \"optional\" values, eg `Just(1), Just(\"hello\"), Just(True), Nothing`\n",
    "\n",
    "---\n",
    "\n",
    "We cannot apply our normal functions to wrapped values.\n",
    "\n",
    "```haskell\n",
    "-- normal function\n",
    "addOne :: Int -> Int\n",
    "addOne x = x + 1\n",
    "```\n",
    "\n",
    "We need to \"unwrap\" the value first then apply the function and \"wrap\" it again.\n"
   ]
  },
  {
   "cell_type": "code",
   "execution_count": null,
   "id": "9074bf9b",
   "metadata": {},
   "outputs": [],
   "source": [
    "from utils.monad.maybe_monad import Just, Nothing, Maybe\n",
    "from typing import Callable, TypeVar\n",
    "\n",
    "T = TypeVar(\"T\")\n",
    "S = TypeVar(\"S\")\n",
    "\n",
    "\n",
    "def add_one(value: int) -> int:\n",
    "    return value + 1\n",
    "\n",
    "\n",
    "# manually checking wrapped value\n",
    "def add_one_to_wrapped_value(wrapped_value: Maybe[int]) -> Maybe[int]:\n",
    "    if isinstance(wrapped_value, Just):\n",
    "        result = add_one(wrapped_value.value)\n",
    "        return Just(result)\n",
    "    else:\n",
    "        # return Nothing\n",
    "        return wrapped_value"
   ]
  },
  {
   "cell_type": "code",
   "execution_count": 2,
   "id": "64990f43",
   "metadata": {},
   "outputs": [
    {
     "data": {
      "text/plain": [
       "Nothing(something went wrong)"
      ]
     },
     "execution_count": 2,
     "metadata": {},
     "output_type": "execute_result"
    }
   ],
   "source": [
    "add_one_to_wrapped_value(Nothing(\"something went wrong\"))"
   ]
  },
  {
   "cell_type": "code",
   "execution_count": 3,
   "id": "e772cdd9",
   "metadata": {},
   "outputs": [
    {
     "data": {
      "text/plain": [
       "Just 2"
      ]
     },
     "execution_count": 3,
     "metadata": {},
     "output_type": "execute_result"
    }
   ],
   "source": [
    "add_one_to_wrapped_value(Just(1))"
   ]
  },
  {
   "cell_type": "code",
   "execution_count": null,
   "id": "3767db2b",
   "metadata": {},
   "outputs": [],
   "source": [
    "# create a helper function `map`\n",
    "# to lift the normal function to monad world\n",
    "def map_for_maybe(func: Callable[[T], S], maybe: Maybe[T]) -> Maybe[S]:\n",
    "    if isinstance(maybe, Just):\n",
    "        return Just(func(maybe.value))\n",
    "    else:\n",
    "        return maybe"
   ]
  },
  {
   "cell_type": "code",
   "execution_count": 5,
   "id": "06232e98",
   "metadata": {},
   "outputs": [
    {
     "data": {
      "text/plain": [
       "Just 2"
      ]
     },
     "execution_count": 5,
     "metadata": {},
     "output_type": "execute_result"
    }
   ],
   "source": [
    "map_for_maybe(add_one, Just(1))"
   ]
  },
  {
   "cell_type": "code",
   "execution_count": 6,
   "id": "9e6a8528",
   "metadata": {},
   "outputs": [
    {
     "data": {
      "text/plain": [
       "Just False"
      ]
     },
     "execution_count": 6,
     "metadata": {},
     "output_type": "execute_result"
    }
   ],
   "source": [
    "map_for_maybe(lambda x: not (x), Just(True))"
   ]
  },
  {
   "cell_type": "code",
   "execution_count": 7,
   "id": "ff66dc04",
   "metadata": {},
   "outputs": [
    {
     "data": {
      "text/plain": [
       "Nothing(something went wrong)"
      ]
     },
     "execution_count": 7,
     "metadata": {},
     "output_type": "execute_result"
    }
   ],
   "source": [
    "map_for_maybe(add_one, Nothing(\"something went wrong\"))"
   ]
  },
  {
   "cell_type": "code",
   "execution_count": null,
   "id": "568460af",
   "metadata": {},
   "outputs": [],
   "source": []
  }
 ],
 "metadata": {
  "kernelspec": {
   "display_name": "py312",
   "language": "python",
   "name": "python3"
  },
  "language_info": {
   "codemirror_mode": {
    "name": "ipython",
    "version": 3
   },
   "file_extension": ".py",
   "mimetype": "text/x-python",
   "name": "python",
   "nbconvert_exporter": "python",
   "pygments_lexer": "ipython3",
   "version": "3.12.4"
  }
 },
 "nbformat": 4,
 "nbformat_minor": 5
}
