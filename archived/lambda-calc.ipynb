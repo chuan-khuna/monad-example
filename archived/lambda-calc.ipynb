{
 "cells": [
  {
   "cell_type": "code",
   "execution_count": 18,
   "metadata": {},
   "outputs": [],
   "source": [
    "def Identity(x):\n",
    "    \"\"\"`I = λx.x`\"\"\"\n",
    "    return x\n",
    "\n",
    "\n",
    "I = Identity\n",
    "\n",
    "\n",
    "def MockingBird(f):\n",
    "    \"\"\"`M = λf.ff`\"\"\"\n",
    "    return f(f)\n",
    "\n",
    "\n",
    "M = MockingBird\n",
    "\n",
    "\n",
    "def Kestrel(x):\n",
    "    \"\"\"Kestrel combinator\n",
    "    Haskell `const` constant function, always returns the first argument\n",
    "\n",
    "    `K = λx.λy.x`\n",
    "    \"\"\"\n",
    "\n",
    "    def Krestel_inner(y):\n",
    "        return x\n",
    "\n",
    "    return Krestel_inner\n",
    "\n",
    "\n",
    "K = Kestrel\n",
    "\n",
    "\n",
    "def Kite(x):\n",
    "    \"\"\"Kite combinator\n",
    "\n",
    "    K(I)\n",
    "    `KI = λa.λb.b`\n",
    "    \"\"\"\n",
    "    _ki = K(I)\n",
    "\n",
    "    def Kite_inner(y):\n",
    "        return _ki(x)(y)\n",
    "\n",
    "    return Kite_inner\n",
    "\n",
    "\n",
    "KI = Kite\n",
    "\n",
    "\n",
    "def Cardinal(f):\n",
    "    \"\"\"Haskell `flip`\n",
    "    `C = λf.λa.λb.fba`\"\"\"\n",
    "\n",
    "    def Cardinal_a(a):\n",
    "        def Cardinal_b(b):\n",
    "            return f(b)(a)\n",
    "\n",
    "        return Cardinal_b\n",
    "\n",
    "    return Cardinal_a\n",
    "\n",
    "\n",
    "C = Cardinal\n",
    "\n",
    "T = True_K = K\n",
    "F = False_KI = KI\n",
    "Not_C = C"
   ]
  },
  {
   "cell_type": "code",
   "execution_count": 19,
   "metadata": {},
   "outputs": [
    {
     "data": {
      "text/plain": [
       "True"
      ]
     },
     "execution_count": 19,
     "metadata": {},
     "output_type": "execute_result"
    }
   ],
   "source": [
    "# weird thing happens, curring!\n",
    "K(I)(M)(1) == KI(M)(1)"
   ]
  },
  {
   "cell_type": "code",
   "execution_count": 20,
   "metadata": {},
   "outputs": [
    {
     "data": {
      "text/plain": [
       "1"
      ]
     },
     "execution_count": 20,
     "metadata": {},
     "output_type": "execute_result"
    }
   ],
   "source": [
    "C(lambda x: lambda y: x - y)(1)(2)"
   ]
  },
  {
   "cell_type": "code",
   "execution_count": 21,
   "metadata": {},
   "outputs": [
    {
     "data": {
      "text/plain": [
       "True"
      ]
     },
     "execution_count": 21,
     "metadata": {},
     "output_type": "execute_result"
    }
   ],
   "source": [
    "C(K)(I)(M) == KI(I)(M)"
   ]
  },
  {
   "cell_type": "code",
   "execution_count": 22,
   "metadata": {},
   "outputs": [
    {
     "data": {
      "text/plain": [
       "(1, 2)"
      ]
     },
     "execution_count": 22,
     "metadata": {},
     "output_type": "execute_result"
    }
   ],
   "source": [
    "True_K(1)(2), False_KI(1)(2)"
   ]
  },
  {
   "cell_type": "code",
   "execution_count": 23,
   "metadata": {},
   "outputs": [
    {
     "data": {
      "text/plain": [
       "2"
      ]
     },
     "execution_count": 23,
     "metadata": {},
     "output_type": "execute_result"
    }
   ],
   "source": [
    "Not_C(True_K)(1)(2)"
   ]
  },
  {
   "cell_type": "code",
   "execution_count": 25,
   "metadata": {},
   "outputs": [
    {
     "data": {
      "text/plain": [
       "False"
      ]
     },
     "execution_count": 25,
     "metadata": {},
     "output_type": "execute_result"
    }
   ],
   "source": [
    "Not_C(T)(True)(False)"
   ]
  },
  {
   "cell_type": "code",
   "execution_count": null,
   "metadata": {},
   "outputs": [],
   "source": [
    "Not_C(T)"
   ]
  }
 ],
 "metadata": {
  "kernelspec": {
   "display_name": "py312",
   "language": "python",
   "name": "python3"
  },
  "language_info": {
   "codemirror_mode": {
    "name": "ipython",
    "version": 3
   },
   "file_extension": ".py",
   "mimetype": "text/x-python",
   "name": "python",
   "nbconvert_exporter": "python",
   "pygments_lexer": "ipython3",
   "version": "3.1.undefined"
  }
 },
 "nbformat": 4,
 "nbformat_minor": 2
}
