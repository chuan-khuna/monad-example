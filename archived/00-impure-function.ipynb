{
 "cells": [
  {
   "cell_type": "markdown",
   "metadata": {},
   "source": [
    "# Side Effects?\n",
    "\n",
    "What is ‘No Side Effects’?\n",
    "\n",
    "- When calling a function, it takes some inputs and it returns some outputs. It doesn't modify inputs.\n",
    "\n",
    "- 'Pure functions' have no side-effects — they only look at their input and produce output based on that input.\n",
    "\n",
    "- Pure function does not have any observable side-effects and always returns the same outputs, given the same inputs. (https://youtu.be/jjX68oHAw-Y 35:26)\n",
    "\n",
    "---\n",
    "\n",
    "Question about Functional Programming and Side Effect (https://www.youtube.com/watch?v=roP_HC7tiXw)\n",
    "\n",
    "$g(x)$ is a function, and $g(1) = 5$. Then what is the value of $g(1)$?\n",
    "\n",
    "```python\n",
    "g(1) # ??\n",
    "```\n",
    "\n",
    "- If ans is 5, then `g` is a function in mathematics.\n",
    "- But in computer programming can have side effects that can affect the result of g. Maybe `g(1) = 6`.\n"
   ]
  },
  {
   "cell_type": "markdown",
   "metadata": {},
   "source": [
    "# Pure vs Impure Functions\n"
   ]
  },
  {
   "cell_type": "code",
   "execution_count": 1,
   "metadata": {},
   "outputs": [],
   "source": [
    "# global state\n",
    "counter = 0\n",
    "\n",
    "\n",
    "def f(x):\n",
    "    # global state can affect the output\n",
    "    global counter\n",
    "    # mutate state for next call\n",
    "    # \"side effect\"\n",
    "    counter += 1\n",
    "\n",
    "    # return output that depends on the state\n",
    "    return x + (counter - 1)\n",
    "\n",
    "\n",
    "def pure_f(x):\n",
    "    return x"
   ]
  },
  {
   "cell_type": "code",
   "execution_count": 2,
   "metadata": {},
   "outputs": [
    {
     "name": "stdout",
     "output_type": "stream",
     "text": [
      "counter=0\n",
      "call#1 result=1\n",
      "\n",
      "counter=1\n",
      "call#2 result=2\n",
      "\n",
      "counter=2\n",
      "call#3 result=3\n",
      "\n",
      "counter=3\n",
      "call#4 result=4\n",
      "\n",
      "counter=4\n",
      "call#5 result=5\n",
      "\n"
     ]
    }
   ],
   "source": [
    "ARG = 1\n",
    "\n",
    "for i in range(5):\n",
    "    print(f\"{counter=}\")\n",
    "    result = f(ARG)\n",
    "    print(f\"call#{i+1} {result=}\")\n",
    "    print(\"\")"
   ]
  },
  {
   "cell_type": "code",
   "execution_count": 3,
   "metadata": {},
   "outputs": [
    {
     "name": "stdout",
     "output_type": "stream",
     "text": [
      "counter=5\n",
      "call#1 result=1\n",
      "\n",
      "counter=5\n",
      "call#2 result=1\n",
      "\n",
      "counter=5\n",
      "call#3 result=1\n",
      "\n",
      "counter=5\n",
      "call#4 result=1\n",
      "\n",
      "counter=5\n",
      "call#5 result=1\n",
      "\n"
     ]
    }
   ],
   "source": [
    "ARG = 1\n",
    "\n",
    "for i in range(5):\n",
    "    print(f\"{counter=}\")\n",
    "    result = pure_f(ARG)\n",
    "    print(f\"call#{i+1} {result=}\")\n",
    "    print(\"\")"
   ]
  },
  {
   "cell_type": "markdown",
   "metadata": {},
   "source": [
    "the output of `increment()` **depends** on a global **state**\n"
   ]
  },
  {
   "cell_type": "code",
   "execution_count": 4,
   "metadata": {},
   "outputs": [
    {
     "name": "stdout",
     "output_type": "stream",
     "text": [
      "counter=0\n",
      "call#1 result=1\n",
      "\n",
      "counter=1\n",
      "call#2 result=2\n",
      "\n",
      "counter=2\n",
      "call#3 result=3\n",
      "\n",
      "counter=3\n",
      "call#4 result=4\n",
      "\n",
      "counter=4\n",
      "call#5 result=5\n",
      "\n"
     ]
    }
   ],
   "source": [
    "counter = 0\n",
    "\n",
    "\n",
    "def increment():\n",
    "    # global state can affect the output\n",
    "    global counter\n",
    "    counter += 1\n",
    "    return counter\n",
    "\n",
    "\n",
    "for i in range(5):\n",
    "    print(f\"{counter=}\")\n",
    "    result = increment()\n",
    "    print(f\"call#{i+1} {result=}\")\n",
    "    print(\"\")"
   ]
  },
  {
   "cell_type": "markdown",
   "metadata": {},
   "source": [
    "# Declarative vs Imperative Programming\n"
   ]
  },
  {
   "cell_type": "code",
   "execution_count": 5,
   "metadata": {},
   "outputs": [
    {
     "data": {
      "text/plain": [
       "([1, 2, 3, 4, 5, 6, 7, 8, 9, 10], 55)"
      ]
     },
     "execution_count": 5,
     "metadata": {},
     "output_type": "execute_result"
    }
   ],
   "source": [
    "num_arr = list(range(1, 11))\n",
    "num_arr, sum(num_arr)"
   ]
  },
  {
   "cell_type": "code",
   "execution_count": 6,
   "metadata": {},
   "outputs": [],
   "source": [
    "def imperative_sum(arr):\n",
    "    total = 0\n",
    "    for num in arr:\n",
    "        total += num\n",
    "    return total\n",
    "\n",
    "\n",
    "def declarative_sum(arr):\n",
    "    # sum :: [Int] -> Int\n",
    "\n",
    "    # give the definition of `sum`\n",
    "    # `sum` of a blank array is 0\n",
    "    # sum [] = 0\n",
    "    if arr == []:\n",
    "        return 0\n",
    "\n",
    "    # `sum` of an array is the first element plus the `sum` of the rest of the array\n",
    "    # sum (x:xs) = x + sum xs\n",
    "    return arr[0] + declarative_sum(arr[1:])"
   ]
  },
  {
   "cell_type": "code",
   "execution_count": 7,
   "metadata": {},
   "outputs": [
    {
     "data": {
      "text/plain": [
       "(55, 55)"
      ]
     },
     "execution_count": 7,
     "metadata": {},
     "output_type": "execute_result"
    }
   ],
   "source": [
    "imperative_sum(num_arr), declarative_sum(num_arr)"
   ]
  },
  {
   "cell_type": "code",
   "execution_count": null,
   "metadata": {},
   "outputs": [],
   "source": []
  }
 ],
 "metadata": {
  "kernelspec": {
   "display_name": "py312",
   "language": "python",
   "name": "python3"
  },
  "language_info": {
   "codemirror_mode": {
    "name": "ipython",
    "version": 3
   },
   "file_extension": ".py",
   "mimetype": "text/x-python",
   "name": "python",
   "nbconvert_exporter": "python",
   "pygments_lexer": "ipython3",
   "version": "3.12.4"
  }
 },
 "nbformat": 4,
 "nbformat_minor": 2
}
